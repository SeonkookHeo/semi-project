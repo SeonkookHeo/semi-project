{
  "nbformat": 4,
  "nbformat_minor": 0,
  "metadata": {
    "colab": {
      "provenance": [],
      "toc_visible": true,
      "include_colab_link": true
    },
    "kernelspec": {
      "name": "python3",
      "display_name": "Python 3"
    },
    "language_info": {
      "name": "python"
    }
  },
  "cells": [
    {
      "cell_type": "markdown",
      "metadata": {
        "id": "view-in-github",
        "colab_type": "text"
      },
      "source": [
        "<a href=\"https://colab.research.google.com/github/SeonkookHeo/semi-project/blob/main/24_03_2122_%ED%97%88%EC%84%A0%EA%B5%AD.ipynb\" target=\"_parent\"><img src=\"https://colab.research.google.com/assets/colab-badge.svg\" alt=\"Open In Colab\"/></a>"
      ]
    },
    {
      "cell_type": "markdown",
      "source": [
        "# 0. 한글폰트 설치"
      ],
      "metadata": {
        "id": "tp3oUBD15Zps"
      }
    },
    {
      "cell_type": "markdown",
      "source": [
        "> ## 1) 한글 폰트 설치"
      ],
      "metadata": {
        "id": "oGEomhVl5fV5"
      }
    },
    {
      "cell_type": "code",
      "source": [
        "!apt-get -qq -y install fonts-nanum > /dev/null\n",
        "\n",
        "!rm -rf ~/.cache/matplotlib -rf"
      ],
      "metadata": {
        "id": "sRmz_aqE5i43"
      },
      "execution_count": 61,
      "outputs": []
    },
    {
      "cell_type": "markdown",
      "source": [
        "> ## 2) 설치 후 '런터임 다시 시작'"
      ],
      "metadata": {
        "id": "5XADJU2G5u8j"
      }
    },
    {
      "cell_type": "code",
      "source": [
        "import os\n",
        "\n",
        "os.kill(os.getpid(), 9)"
      ],
      "metadata": {
        "id": "ZngCs7KZ5pux"
      },
      "execution_count": null,
      "outputs": []
    },
    {
      "cell_type": "markdown",
      "source": [
        "> ## 3) 한글 폰트 설정"
      ],
      "metadata": {
        "id": "MHNn4d6E50u1"
      }
    },
    {
      "cell_type": "code",
      "source": [
        "import matplotlib.pyplot as plt\n",
        "import matplotlib as mpl\n",
        "\n",
        "mpl.rcParams['axes.unicode_minus'] = False\n",
        "\n",
        "plt.rcParams['font.family'] = 'NanumGothic'"
      ],
      "metadata": {
        "id": "62Vq8pXR5sP0"
      },
      "execution_count": 1,
      "outputs": []
    },
    {
      "cell_type": "code",
      "execution_count": 2,
      "metadata": {
        "id": "F8MTyAC_xfEM"
      },
      "outputs": [],
      "source": [
        "import warnings\n",
        "warnings.filterwarnings('ignore')"
      ]
    },
    {
      "cell_type": "markdown",
      "source": [
        "#패션 데이터 전처리"
      ],
      "metadata": {
        "id": "tVoaxCHiyO22"
      }
    },
    {
      "cell_type": "markdown",
      "source": [
        "# 패션 데이터셋"
      ],
      "metadata": {
        "id": "N3nZY_FYyOh9"
      }
    },
    {
      "cell_type": "markdown",
      "source": [
        "> ## 1) 2023년 2월 15일 패션 데이터셋"
      ],
      "metadata": {
        "id": "eNAkU5ZJydba"
      }
    },
    {
      "cell_type": "code",
      "source": [
        "from google.colab import drive\n",
        "drive.mount('/content/drive')"
      ],
      "metadata": {
        "colab": {
          "base_uri": "https://localhost:8080/"
        },
        "id": "QFMBASzZy0pJ",
        "outputId": "091515e9-086d-4192-992e-5e75a4fa267c"
      },
      "execution_count": 3,
      "outputs": [
        {
          "output_type": "stream",
          "name": "stdout",
          "text": [
            "Drive already mounted at /content/drive; to attempt to forcibly remount, call drive.mount(\"/content/drive\", force_remount=True).\n"
          ]
        }
      ]
    },
    {
      "cell_type": "code",
      "source": [
        "import pandas as pd\n",
        "\n",
        "DF = pd.read_csv('/content/drive/MyDrive/5조/03. 데이터/패션 데이터/230215.csv')"
      ],
      "metadata": {
        "id": "MP7oe54fycZ2"
      },
      "execution_count": 4,
      "outputs": []
    },
    {
      "cell_type": "markdown",
      "source": [
        "* 패션 데이터셋 정보"
      ],
      "metadata": {
        "id": "QaG22uoAzKkD"
      }
    },
    {
      "cell_type": "code",
      "source": [
        "DF.info()"
      ],
      "metadata": {
        "colab": {
          "base_uri": "https://localhost:8080/"
        },
        "id": "Z7qf0M98z1SQ",
        "outputId": "3851848c-6a88-4134-cace-4bbc50f2244f"
      },
      "execution_count": 5,
      "outputs": [
        {
          "output_type": "stream",
          "name": "stdout",
          "text": [
            "<class 'pandas.core.frame.DataFrame'>\n",
            "RangeIndex: 858215 entries, 0 to 858214\n",
            "Data columns (total 16 columns):\n",
            " #   Column                Non-Null Count   Dtype \n",
            "---  ------                --------------   ----- \n",
            " 0   category_large_desc   858215 non-null  object\n",
            " 1   category_middle_desc  858215 non-null  object\n",
            " 2   category_small_desc   858215 non-null  object\n",
            " 3   item                  676959 non-null  object\n",
            " 4   color                 711970 non-null  object\n",
            " 5   use                   242476 non-null  object\n",
            " 6   material              755054 non-null  object\n",
            " 7   print_pattern         368166 non-null  object\n",
            " 8   characteristic        547034 non-null  object\n",
            " 9   detail                589722 non-null  object\n",
            " 10  age                   3784 non-null    object\n",
            " 11  weight                41831 non-null   object\n",
            " 12  season                830 non-null     object\n",
            " 13  sensibility           603684 non-null  object\n",
            " 14  sale_price            858215 non-null  int64 \n",
            " 15  recent_sale_count     858215 non-null  int64 \n",
            "dtypes: int64(2), object(14)\n",
            "memory usage: 104.8+ MB\n"
          ]
        }
      ]
    },
    {
      "cell_type": "markdown",
      "source": [
        "> ## 2) 결측치 확인"
      ],
      "metadata": {
        "id": "a6Tm2VChz6ee"
      }
    },
    {
      "cell_type": "code",
      "source": [
        "DF.head(10)"
      ],
      "metadata": {
        "colab": {
          "base_uri": "https://localhost:8080/",
          "height": 1000
        },
        "id": "dwLk583Uz2V7",
        "outputId": "6f929818-cd7c-4508-ede2-155911a76f4e"
      },
      "execution_count": 6,
      "outputs": [
        {
          "output_type": "execute_result",
          "data": {
            "text/plain": [
              "  category_large_desc category_middle_desc category_small_desc  \\\n",
              "0                 여성복                  원피스                점프슈트   \n",
              "1                 여성복                  원피스                점프슈트   \n",
              "2                 여성복                  원피스                점프슈트   \n",
              "3                 여성복                  원피스                점프슈트   \n",
              "4                 여성복                  원피스                점프슈트   \n",
              "5                 여성복                  원피스                점프슈트   \n",
              "6                 여성복                  원피스                점프슈트   \n",
              "7                 여성복                  원피스                점프슈트   \n",
              "8                 여성복                  원피스                점프슈트   \n",
              "9                 여성복                  원피스                점프슈트   \n",
              "\n",
              "                                             item               color  \\\n",
              "0             바람막이/반바지/여름점프수트/반팔점프수트/반바지점프수트/점프수트              베이지/블랙   \n",
              "1                       점프수트/오버롤팬츠/데님점프수트/데일리점프수트                 NaN   \n",
              "2                      포켓점프수트/점프수트/데님점프수트/데일리점프수트                 NaN   \n",
              "3  스트링점프수트/반팔점프수트/반바지/반바지점프수트/점프수트/칼라점프슈트/데일리점프수트          베이지/블랙/그레이   \n",
              "4                                             NaN  베이지/블랙/화이트/아이보리/카키   \n",
              "5                                             NaN             베이지/그레이   \n",
              "6                  오버롤데님/여름점프수트/오버롤팬츠/데님점프수트/점프수트                 NaN   \n",
              "7                               오버롤팬츠/점프수트/여름점프수트            라이트블루/차콜   \n",
              "8                                         바캉스룩원피스            차콜/블랙/카키   \n",
              "9                                             NaN           베이지/블랙/카키   \n",
              "\n",
              "         use         material print_pattern characteristic          detail  \\\n",
              "0        NaN  코튼/폴리에스터/스판/나일론            체크            NaN             NaN   \n",
              "1        NaN  데님/코튼/폴리에스터/나일론            체크            빈티지   스트링/오버롤/자수/워싱   \n",
              "2        NaN  데님/코튼/폴리에스터/나일론           NaN            NaN         스트링/오버롤   \n",
              "3        캠핑룩    폴리에스터/아크릴/나일론            체크            NaN         루즈핏/스트링   \n",
              "4        NaN        폴리에스터/나일론             별            시원한  루즈핏/슬림핏/스트링/커팅   \n",
              "5        NaN               코튼           NaN            NaN         스트링/오버롤   \n",
              "6        NaN               데님           NaN       탄탄한/유니크한        자수/오버롤/랩   \n",
              "7        NaN            텐셀/데님           NaN            시원한     스트링/오버롤/와이드   \n",
              "8  임산부/55사이즈            폴리에스터           NaN            NaN     스트링/오버롤/와이드   \n",
              "9        NaN            폴리에스터             별            NaN             스트링   \n",
              "\n",
              "   age weight season sensibility  sale_price  recent_sale_count  \n",
              "0  NaN    NaN    NaN         NaN       28800                  0  \n",
              "1  NaN    NaN    NaN    레이어드/귀여운       28800                  0  \n",
              "2  NaN    NaN    NaN         귀여운       28800                  0  \n",
              "3  NaN    NaN    NaN        활동적인       35800                  0  \n",
              "4  NaN    NaN    NaN        캐주얼한       28800                  1  \n",
              "5  NaN    NaN    NaN         NaN       58900                  0  \n",
              "6  NaN    NaN    NaN   유니크한/캐주얼한       28500                  0  \n",
              "7  NaN    NaN    NaN         NaN       29430                  1  \n",
              "8  NaN    NaN    NaN         NaN       13900                  0  \n",
              "9  NaN    NaN    NaN   레이어드/캐주얼한       27800                  0  "
            ],
            "text/html": [
              "\n",
              "  <div id=\"df-13d64ecc-993c-49db-b0ef-7a926c0f1206\" class=\"colab-df-container\">\n",
              "    <div>\n",
              "<style scoped>\n",
              "    .dataframe tbody tr th:only-of-type {\n",
              "        vertical-align: middle;\n",
              "    }\n",
              "\n",
              "    .dataframe tbody tr th {\n",
              "        vertical-align: top;\n",
              "    }\n",
              "\n",
              "    .dataframe thead th {\n",
              "        text-align: right;\n",
              "    }\n",
              "</style>\n",
              "<table border=\"1\" class=\"dataframe\">\n",
              "  <thead>\n",
              "    <tr style=\"text-align: right;\">\n",
              "      <th></th>\n",
              "      <th>category_large_desc</th>\n",
              "      <th>category_middle_desc</th>\n",
              "      <th>category_small_desc</th>\n",
              "      <th>item</th>\n",
              "      <th>color</th>\n",
              "      <th>use</th>\n",
              "      <th>material</th>\n",
              "      <th>print_pattern</th>\n",
              "      <th>characteristic</th>\n",
              "      <th>detail</th>\n",
              "      <th>age</th>\n",
              "      <th>weight</th>\n",
              "      <th>season</th>\n",
              "      <th>sensibility</th>\n",
              "      <th>sale_price</th>\n",
              "      <th>recent_sale_count</th>\n",
              "    </tr>\n",
              "  </thead>\n",
              "  <tbody>\n",
              "    <tr>\n",
              "      <th>0</th>\n",
              "      <td>여성복</td>\n",
              "      <td>원피스</td>\n",
              "      <td>점프슈트</td>\n",
              "      <td>바람막이/반바지/여름점프수트/반팔점프수트/반바지점프수트/점프수트</td>\n",
              "      <td>베이지/블랙</td>\n",
              "      <td>NaN</td>\n",
              "      <td>코튼/폴리에스터/스판/나일론</td>\n",
              "      <td>체크</td>\n",
              "      <td>NaN</td>\n",
              "      <td>NaN</td>\n",
              "      <td>NaN</td>\n",
              "      <td>NaN</td>\n",
              "      <td>NaN</td>\n",
              "      <td>NaN</td>\n",
              "      <td>28800</td>\n",
              "      <td>0</td>\n",
              "    </tr>\n",
              "    <tr>\n",
              "      <th>1</th>\n",
              "      <td>여성복</td>\n",
              "      <td>원피스</td>\n",
              "      <td>점프슈트</td>\n",
              "      <td>점프수트/오버롤팬츠/데님점프수트/데일리점프수트</td>\n",
              "      <td>NaN</td>\n",
              "      <td>NaN</td>\n",
              "      <td>데님/코튼/폴리에스터/나일론</td>\n",
              "      <td>체크</td>\n",
              "      <td>빈티지</td>\n",
              "      <td>스트링/오버롤/자수/워싱</td>\n",
              "      <td>NaN</td>\n",
              "      <td>NaN</td>\n",
              "      <td>NaN</td>\n",
              "      <td>레이어드/귀여운</td>\n",
              "      <td>28800</td>\n",
              "      <td>0</td>\n",
              "    </tr>\n",
              "    <tr>\n",
              "      <th>2</th>\n",
              "      <td>여성복</td>\n",
              "      <td>원피스</td>\n",
              "      <td>점프슈트</td>\n",
              "      <td>포켓점프수트/점프수트/데님점프수트/데일리점프수트</td>\n",
              "      <td>NaN</td>\n",
              "      <td>NaN</td>\n",
              "      <td>데님/코튼/폴리에스터/나일론</td>\n",
              "      <td>NaN</td>\n",
              "      <td>NaN</td>\n",
              "      <td>스트링/오버롤</td>\n",
              "      <td>NaN</td>\n",
              "      <td>NaN</td>\n",
              "      <td>NaN</td>\n",
              "      <td>귀여운</td>\n",
              "      <td>28800</td>\n",
              "      <td>0</td>\n",
              "    </tr>\n",
              "    <tr>\n",
              "      <th>3</th>\n",
              "      <td>여성복</td>\n",
              "      <td>원피스</td>\n",
              "      <td>점프슈트</td>\n",
              "      <td>스트링점프수트/반팔점프수트/반바지/반바지점프수트/점프수트/칼라점프슈트/데일리점프수트</td>\n",
              "      <td>베이지/블랙/그레이</td>\n",
              "      <td>캠핑룩</td>\n",
              "      <td>폴리에스터/아크릴/나일론</td>\n",
              "      <td>체크</td>\n",
              "      <td>NaN</td>\n",
              "      <td>루즈핏/스트링</td>\n",
              "      <td>NaN</td>\n",
              "      <td>NaN</td>\n",
              "      <td>NaN</td>\n",
              "      <td>활동적인</td>\n",
              "      <td>35800</td>\n",
              "      <td>0</td>\n",
              "    </tr>\n",
              "    <tr>\n",
              "      <th>4</th>\n",
              "      <td>여성복</td>\n",
              "      <td>원피스</td>\n",
              "      <td>점프슈트</td>\n",
              "      <td>NaN</td>\n",
              "      <td>베이지/블랙/화이트/아이보리/카키</td>\n",
              "      <td>NaN</td>\n",
              "      <td>폴리에스터/나일론</td>\n",
              "      <td>별</td>\n",
              "      <td>시원한</td>\n",
              "      <td>루즈핏/슬림핏/스트링/커팅</td>\n",
              "      <td>NaN</td>\n",
              "      <td>NaN</td>\n",
              "      <td>NaN</td>\n",
              "      <td>캐주얼한</td>\n",
              "      <td>28800</td>\n",
              "      <td>1</td>\n",
              "    </tr>\n",
              "    <tr>\n",
              "      <th>5</th>\n",
              "      <td>여성복</td>\n",
              "      <td>원피스</td>\n",
              "      <td>점프슈트</td>\n",
              "      <td>NaN</td>\n",
              "      <td>베이지/그레이</td>\n",
              "      <td>NaN</td>\n",
              "      <td>코튼</td>\n",
              "      <td>NaN</td>\n",
              "      <td>NaN</td>\n",
              "      <td>스트링/오버롤</td>\n",
              "      <td>NaN</td>\n",
              "      <td>NaN</td>\n",
              "      <td>NaN</td>\n",
              "      <td>NaN</td>\n",
              "      <td>58900</td>\n",
              "      <td>0</td>\n",
              "    </tr>\n",
              "    <tr>\n",
              "      <th>6</th>\n",
              "      <td>여성복</td>\n",
              "      <td>원피스</td>\n",
              "      <td>점프슈트</td>\n",
              "      <td>오버롤데님/여름점프수트/오버롤팬츠/데님점프수트/점프수트</td>\n",
              "      <td>NaN</td>\n",
              "      <td>NaN</td>\n",
              "      <td>데님</td>\n",
              "      <td>NaN</td>\n",
              "      <td>탄탄한/유니크한</td>\n",
              "      <td>자수/오버롤/랩</td>\n",
              "      <td>NaN</td>\n",
              "      <td>NaN</td>\n",
              "      <td>NaN</td>\n",
              "      <td>유니크한/캐주얼한</td>\n",
              "      <td>28500</td>\n",
              "      <td>0</td>\n",
              "    </tr>\n",
              "    <tr>\n",
              "      <th>7</th>\n",
              "      <td>여성복</td>\n",
              "      <td>원피스</td>\n",
              "      <td>점프슈트</td>\n",
              "      <td>오버롤팬츠/점프수트/여름점프수트</td>\n",
              "      <td>라이트블루/차콜</td>\n",
              "      <td>NaN</td>\n",
              "      <td>텐셀/데님</td>\n",
              "      <td>NaN</td>\n",
              "      <td>시원한</td>\n",
              "      <td>스트링/오버롤/와이드</td>\n",
              "      <td>NaN</td>\n",
              "      <td>NaN</td>\n",
              "      <td>NaN</td>\n",
              "      <td>NaN</td>\n",
              "      <td>29430</td>\n",
              "      <td>1</td>\n",
              "    </tr>\n",
              "    <tr>\n",
              "      <th>8</th>\n",
              "      <td>여성복</td>\n",
              "      <td>원피스</td>\n",
              "      <td>점프슈트</td>\n",
              "      <td>바캉스룩원피스</td>\n",
              "      <td>차콜/블랙/카키</td>\n",
              "      <td>임산부/55사이즈</td>\n",
              "      <td>폴리에스터</td>\n",
              "      <td>NaN</td>\n",
              "      <td>NaN</td>\n",
              "      <td>스트링/오버롤/와이드</td>\n",
              "      <td>NaN</td>\n",
              "      <td>NaN</td>\n",
              "      <td>NaN</td>\n",
              "      <td>NaN</td>\n",
              "      <td>13900</td>\n",
              "      <td>0</td>\n",
              "    </tr>\n",
              "    <tr>\n",
              "      <th>9</th>\n",
              "      <td>여성복</td>\n",
              "      <td>원피스</td>\n",
              "      <td>점프슈트</td>\n",
              "      <td>NaN</td>\n",
              "      <td>베이지/블랙/카키</td>\n",
              "      <td>NaN</td>\n",
              "      <td>폴리에스터</td>\n",
              "      <td>별</td>\n",
              "      <td>NaN</td>\n",
              "      <td>스트링</td>\n",
              "      <td>NaN</td>\n",
              "      <td>NaN</td>\n",
              "      <td>NaN</td>\n",
              "      <td>레이어드/캐주얼한</td>\n",
              "      <td>27800</td>\n",
              "      <td>0</td>\n",
              "    </tr>\n",
              "  </tbody>\n",
              "</table>\n",
              "</div>\n",
              "    <div class=\"colab-df-buttons\">\n",
              "\n",
              "  <div class=\"colab-df-container\">\n",
              "    <button class=\"colab-df-convert\" onclick=\"convertToInteractive('df-13d64ecc-993c-49db-b0ef-7a926c0f1206')\"\n",
              "            title=\"Convert this dataframe to an interactive table.\"\n",
              "            style=\"display:none;\">\n",
              "\n",
              "  <svg xmlns=\"http://www.w3.org/2000/svg\" height=\"24px\" viewBox=\"0 -960 960 960\">\n",
              "    <path d=\"M120-120v-720h720v720H120Zm60-500h600v-160H180v160Zm220 220h160v-160H400v160Zm0 220h160v-160H400v160ZM180-400h160v-160H180v160Zm440 0h160v-160H620v160ZM180-180h160v-160H180v160Zm440 0h160v-160H620v160Z\"/>\n",
              "  </svg>\n",
              "    </button>\n",
              "\n",
              "  <style>\n",
              "    .colab-df-container {\n",
              "      display:flex;\n",
              "      gap: 12px;\n",
              "    }\n",
              "\n",
              "    .colab-df-convert {\n",
              "      background-color: #E8F0FE;\n",
              "      border: none;\n",
              "      border-radius: 50%;\n",
              "      cursor: pointer;\n",
              "      display: none;\n",
              "      fill: #1967D2;\n",
              "      height: 32px;\n",
              "      padding: 0 0 0 0;\n",
              "      width: 32px;\n",
              "    }\n",
              "\n",
              "    .colab-df-convert:hover {\n",
              "      background-color: #E2EBFA;\n",
              "      box-shadow: 0px 1px 2px rgba(60, 64, 67, 0.3), 0px 1px 3px 1px rgba(60, 64, 67, 0.15);\n",
              "      fill: #174EA6;\n",
              "    }\n",
              "\n",
              "    .colab-df-buttons div {\n",
              "      margin-bottom: 4px;\n",
              "    }\n",
              "\n",
              "    [theme=dark] .colab-df-convert {\n",
              "      background-color: #3B4455;\n",
              "      fill: #D2E3FC;\n",
              "    }\n",
              "\n",
              "    [theme=dark] .colab-df-convert:hover {\n",
              "      background-color: #434B5C;\n",
              "      box-shadow: 0px 1px 3px 1px rgba(0, 0, 0, 0.15);\n",
              "      filter: drop-shadow(0px 1px 2px rgba(0, 0, 0, 0.3));\n",
              "      fill: #FFFFFF;\n",
              "    }\n",
              "  </style>\n",
              "\n",
              "    <script>\n",
              "      const buttonEl =\n",
              "        document.querySelector('#df-13d64ecc-993c-49db-b0ef-7a926c0f1206 button.colab-df-convert');\n",
              "      buttonEl.style.display =\n",
              "        google.colab.kernel.accessAllowed ? 'block' : 'none';\n",
              "\n",
              "      async function convertToInteractive(key) {\n",
              "        const element = document.querySelector('#df-13d64ecc-993c-49db-b0ef-7a926c0f1206');\n",
              "        const dataTable =\n",
              "          await google.colab.kernel.invokeFunction('convertToInteractive',\n",
              "                                                    [key], {});\n",
              "        if (!dataTable) return;\n",
              "\n",
              "        const docLinkHtml = 'Like what you see? Visit the ' +\n",
              "          '<a target=\"_blank\" href=https://colab.research.google.com/notebooks/data_table.ipynb>data table notebook</a>'\n",
              "          + ' to learn more about interactive tables.';\n",
              "        element.innerHTML = '';\n",
              "        dataTable['output_type'] = 'display_data';\n",
              "        await google.colab.output.renderOutput(dataTable, element);\n",
              "        const docLink = document.createElement('div');\n",
              "        docLink.innerHTML = docLinkHtml;\n",
              "        element.appendChild(docLink);\n",
              "      }\n",
              "    </script>\n",
              "  </div>\n",
              "\n",
              "\n",
              "<div id=\"df-f4bfcc67-cc33-4308-9b13-b6bf8d239df1\">\n",
              "  <button class=\"colab-df-quickchart\" onclick=\"quickchart('df-f4bfcc67-cc33-4308-9b13-b6bf8d239df1')\"\n",
              "            title=\"Suggest charts\"\n",
              "            style=\"display:none;\">\n",
              "\n",
              "<svg xmlns=\"http://www.w3.org/2000/svg\" height=\"24px\"viewBox=\"0 0 24 24\"\n",
              "     width=\"24px\">\n",
              "    <g>\n",
              "        <path d=\"M19 3H5c-1.1 0-2 .9-2 2v14c0 1.1.9 2 2 2h14c1.1 0 2-.9 2-2V5c0-1.1-.9-2-2-2zM9 17H7v-7h2v7zm4 0h-2V7h2v10zm4 0h-2v-4h2v4z\"/>\n",
              "    </g>\n",
              "</svg>\n",
              "  </button>\n",
              "\n",
              "<style>\n",
              "  .colab-df-quickchart {\n",
              "      --bg-color: #E8F0FE;\n",
              "      --fill-color: #1967D2;\n",
              "      --hover-bg-color: #E2EBFA;\n",
              "      --hover-fill-color: #174EA6;\n",
              "      --disabled-fill-color: #AAA;\n",
              "      --disabled-bg-color: #DDD;\n",
              "  }\n",
              "\n",
              "  [theme=dark] .colab-df-quickchart {\n",
              "      --bg-color: #3B4455;\n",
              "      --fill-color: #D2E3FC;\n",
              "      --hover-bg-color: #434B5C;\n",
              "      --hover-fill-color: #FFFFFF;\n",
              "      --disabled-bg-color: #3B4455;\n",
              "      --disabled-fill-color: #666;\n",
              "  }\n",
              "\n",
              "  .colab-df-quickchart {\n",
              "    background-color: var(--bg-color);\n",
              "    border: none;\n",
              "    border-radius: 50%;\n",
              "    cursor: pointer;\n",
              "    display: none;\n",
              "    fill: var(--fill-color);\n",
              "    height: 32px;\n",
              "    padding: 0;\n",
              "    width: 32px;\n",
              "  }\n",
              "\n",
              "  .colab-df-quickchart:hover {\n",
              "    background-color: var(--hover-bg-color);\n",
              "    box-shadow: 0 1px 2px rgba(60, 64, 67, 0.3), 0 1px 3px 1px rgba(60, 64, 67, 0.15);\n",
              "    fill: var(--button-hover-fill-color);\n",
              "  }\n",
              "\n",
              "  .colab-df-quickchart-complete:disabled,\n",
              "  .colab-df-quickchart-complete:disabled:hover {\n",
              "    background-color: var(--disabled-bg-color);\n",
              "    fill: var(--disabled-fill-color);\n",
              "    box-shadow: none;\n",
              "  }\n",
              "\n",
              "  .colab-df-spinner {\n",
              "    border: 2px solid var(--fill-color);\n",
              "    border-color: transparent;\n",
              "    border-bottom-color: var(--fill-color);\n",
              "    animation:\n",
              "      spin 1s steps(1) infinite;\n",
              "  }\n",
              "\n",
              "  @keyframes spin {\n",
              "    0% {\n",
              "      border-color: transparent;\n",
              "      border-bottom-color: var(--fill-color);\n",
              "      border-left-color: var(--fill-color);\n",
              "    }\n",
              "    20% {\n",
              "      border-color: transparent;\n",
              "      border-left-color: var(--fill-color);\n",
              "      border-top-color: var(--fill-color);\n",
              "    }\n",
              "    30% {\n",
              "      border-color: transparent;\n",
              "      border-left-color: var(--fill-color);\n",
              "      border-top-color: var(--fill-color);\n",
              "      border-right-color: var(--fill-color);\n",
              "    }\n",
              "    40% {\n",
              "      border-color: transparent;\n",
              "      border-right-color: var(--fill-color);\n",
              "      border-top-color: var(--fill-color);\n",
              "    }\n",
              "    60% {\n",
              "      border-color: transparent;\n",
              "      border-right-color: var(--fill-color);\n",
              "    }\n",
              "    80% {\n",
              "      border-color: transparent;\n",
              "      border-right-color: var(--fill-color);\n",
              "      border-bottom-color: var(--fill-color);\n",
              "    }\n",
              "    90% {\n",
              "      border-color: transparent;\n",
              "      border-bottom-color: var(--fill-color);\n",
              "    }\n",
              "  }\n",
              "</style>\n",
              "\n",
              "  <script>\n",
              "    async function quickchart(key) {\n",
              "      const quickchartButtonEl =\n",
              "        document.querySelector('#' + key + ' button');\n",
              "      quickchartButtonEl.disabled = true;  // To prevent multiple clicks.\n",
              "      quickchartButtonEl.classList.add('colab-df-spinner');\n",
              "      try {\n",
              "        const charts = await google.colab.kernel.invokeFunction(\n",
              "            'suggestCharts', [key], {});\n",
              "      } catch (error) {\n",
              "        console.error('Error during call to suggestCharts:', error);\n",
              "      }\n",
              "      quickchartButtonEl.classList.remove('colab-df-spinner');\n",
              "      quickchartButtonEl.classList.add('colab-df-quickchart-complete');\n",
              "    }\n",
              "    (() => {\n",
              "      let quickchartButtonEl =\n",
              "        document.querySelector('#df-f4bfcc67-cc33-4308-9b13-b6bf8d239df1 button');\n",
              "      quickchartButtonEl.style.display =\n",
              "        google.colab.kernel.accessAllowed ? 'block' : 'none';\n",
              "    })();\n",
              "  </script>\n",
              "</div>\n",
              "\n",
              "    </div>\n",
              "  </div>\n"
            ],
            "application/vnd.google.colaboratory.intrinsic+json": {
              "type": "dataframe",
              "variable_name": "DF"
            }
          },
          "metadata": {},
          "execution_count": 6
        }
      ]
    },
    {
      "cell_type": "code",
      "source": [
        "DF['category_small_desc'].value_counts(dropna = False)"
      ],
      "metadata": {
        "colab": {
          "base_uri": "https://localhost:8080/"
        },
        "id": "gDLeo4qQ17kn",
        "outputId": "01b66e96-a3f6-4260-e6a1-b9876101c5d9"
      },
      "execution_count": 7,
      "outputs": [
        {
          "output_type": "execute_result",
          "data": {
            "text/plain": [
              "티셔츠         153295\n",
              "롱원피스        102178\n",
              "블라우스/셔츠      99994\n",
              "니트           99703\n",
              "자켓           66168\n",
              "카디건          53175\n",
              "데님팬츠         48047\n",
              "면바지          43986\n",
              "롱스커트         39142\n",
              "점퍼           30009\n",
              "미니원피스        21066\n",
              "뷔스티에/베스트     19191\n",
              "코트           17884\n",
              "반바지          15526\n",
              "플레어스커트       11105\n",
              "H라인스커트        9951\n",
              "점프슈트          7221\n",
              "플리츠스커트        3972\n",
              "조거팬츠          3955\n",
              "코듀로이팬츠        2382\n",
              "미니스커트         1477\n",
              "리넨원피스         1357\n",
              "니트원피스         1352\n",
              "플리츠원피스        1116\n",
              "머메이드스커트        961\n",
              "스퀘어넥원피스        878\n",
              "트위드원피스         807\n",
              "데님스커트          615\n",
              "뷔스티에원피스        592\n",
              "랩원피스           440\n",
              "슬랙스            286\n",
              "셔츠원피스          214\n",
              "쉬폰원피스          109\n",
              "데님원피스           61\n",
              "Name: category_small_desc, dtype: int64"
            ]
          },
          "metadata": {},
          "execution_count": 7
        }
      ]
    },
    {
      "cell_type": "code",
      "source": [
        "DF.isnull().sum(axis = 0)"
      ],
      "metadata": {
        "colab": {
          "base_uri": "https://localhost:8080/"
        },
        "id": "sjfMreAY09Zd",
        "outputId": "17da5df3-d120-4ba2-9ece-e483be21bab0"
      },
      "execution_count": 8,
      "outputs": [
        {
          "output_type": "execute_result",
          "data": {
            "text/plain": [
              "category_large_desc          0\n",
              "category_middle_desc         0\n",
              "category_small_desc          0\n",
              "item                    181256\n",
              "color                   146245\n",
              "use                     615739\n",
              "material                103161\n",
              "print_pattern           490049\n",
              "characteristic          311181\n",
              "detail                  268493\n",
              "age                     854431\n",
              "weight                  816384\n",
              "season                  857385\n",
              "sensibility             254531\n",
              "sale_price                   0\n",
              "recent_sale_count            0\n",
              "dtype: int64"
            ]
          },
          "metadata": {},
          "execution_count": 8
        }
      ]
    },
    {
      "cell_type": "markdown",
      "source": [
        "* 필요없는 데이터 삭제"
      ],
      "metadata": {
        "id": "22DwrA3L1olz"
      }
    },
    {
      "cell_type": "code",
      "source": [
        "columns_to_drop = ['category_large_desc', 'category_middle_desc',  'use', 'print_pattern', 'characteristic',\n",
        "                   'detail', 'age', 'weight', 'season', 'sensibility']\n",
        "\n",
        "DF.drop(columns = columns_to_drop, inplace = True)"
      ],
      "metadata": {
        "id": "67DZh03-1CqY"
      },
      "execution_count": 9,
      "outputs": []
    },
    {
      "cell_type": "code",
      "source": [
        "DF.info()"
      ],
      "metadata": {
        "colab": {
          "base_uri": "https://localhost:8080/"
        },
        "id": "PFAUZ_5y6_0Y",
        "outputId": "9e4ecd81-5d7b-4def-e39c-2565e7d8a02b"
      },
      "execution_count": 10,
      "outputs": [
        {
          "output_type": "stream",
          "name": "stdout",
          "text": [
            "<class 'pandas.core.frame.DataFrame'>\n",
            "RangeIndex: 858215 entries, 0 to 858214\n",
            "Data columns (total 6 columns):\n",
            " #   Column               Non-Null Count   Dtype \n",
            "---  ------               --------------   ----- \n",
            " 0   category_small_desc  858215 non-null  object\n",
            " 1   item                 676959 non-null  object\n",
            " 2   color                711970 non-null  object\n",
            " 3   material             755054 non-null  object\n",
            " 4   sale_price           858215 non-null  int64 \n",
            " 5   recent_sale_count    858215 non-null  int64 \n",
            "dtypes: int64(2), object(4)\n",
            "memory usage: 39.3+ MB\n"
          ]
        }
      ]
    },
    {
      "cell_type": "code",
      "source": [
        "DF.head(10)"
      ],
      "metadata": {
        "colab": {
          "base_uri": "https://localhost:8080/",
          "height": 1000
        },
        "id": "gzzaI7Kp3mw_",
        "outputId": "5f1340bc-f84a-408d-d0fe-fafaddd40047"
      },
      "execution_count": 11,
      "outputs": [
        {
          "output_type": "execute_result",
          "data": {
            "text/plain": [
              "  category_small_desc                                            item  \\\n",
              "0                점프슈트             바람막이/반바지/여름점프수트/반팔점프수트/반바지점프수트/점프수트   \n",
              "1                점프슈트                       점프수트/오버롤팬츠/데님점프수트/데일리점프수트   \n",
              "2                점프슈트                      포켓점프수트/점프수트/데님점프수트/데일리점프수트   \n",
              "3                점프슈트  스트링점프수트/반팔점프수트/반바지/반바지점프수트/점프수트/칼라점프슈트/데일리점프수트   \n",
              "4                점프슈트                                             NaN   \n",
              "5                점프슈트                                             NaN   \n",
              "6                점프슈트                  오버롤데님/여름점프수트/오버롤팬츠/데님점프수트/점프수트   \n",
              "7                점프슈트                               오버롤팬츠/점프수트/여름점프수트   \n",
              "8                점프슈트                                         바캉스룩원피스   \n",
              "9                점프슈트                                             NaN   \n",
              "\n",
              "                color         material  sale_price  recent_sale_count  \n",
              "0              베이지/블랙  코튼/폴리에스터/스판/나일론       28800                  0  \n",
              "1                 NaN  데님/코튼/폴리에스터/나일론       28800                  0  \n",
              "2                 NaN  데님/코튼/폴리에스터/나일론       28800                  0  \n",
              "3          베이지/블랙/그레이    폴리에스터/아크릴/나일론       35800                  0  \n",
              "4  베이지/블랙/화이트/아이보리/카키        폴리에스터/나일론       28800                  1  \n",
              "5             베이지/그레이               코튼       58900                  0  \n",
              "6                 NaN               데님       28500                  0  \n",
              "7            라이트블루/차콜            텐셀/데님       29430                  1  \n",
              "8            차콜/블랙/카키            폴리에스터       13900                  0  \n",
              "9           베이지/블랙/카키            폴리에스터       27800                  0  "
            ],
            "text/html": [
              "\n",
              "  <div id=\"df-53cbdbba-78f5-4e14-9e0a-1d8891bc733d\" class=\"colab-df-container\">\n",
              "    <div>\n",
              "<style scoped>\n",
              "    .dataframe tbody tr th:only-of-type {\n",
              "        vertical-align: middle;\n",
              "    }\n",
              "\n",
              "    .dataframe tbody tr th {\n",
              "        vertical-align: top;\n",
              "    }\n",
              "\n",
              "    .dataframe thead th {\n",
              "        text-align: right;\n",
              "    }\n",
              "</style>\n",
              "<table border=\"1\" class=\"dataframe\">\n",
              "  <thead>\n",
              "    <tr style=\"text-align: right;\">\n",
              "      <th></th>\n",
              "      <th>category_small_desc</th>\n",
              "      <th>item</th>\n",
              "      <th>color</th>\n",
              "      <th>material</th>\n",
              "      <th>sale_price</th>\n",
              "      <th>recent_sale_count</th>\n",
              "    </tr>\n",
              "  </thead>\n",
              "  <tbody>\n",
              "    <tr>\n",
              "      <th>0</th>\n",
              "      <td>점프슈트</td>\n",
              "      <td>바람막이/반바지/여름점프수트/반팔점프수트/반바지점프수트/점프수트</td>\n",
              "      <td>베이지/블랙</td>\n",
              "      <td>코튼/폴리에스터/스판/나일론</td>\n",
              "      <td>28800</td>\n",
              "      <td>0</td>\n",
              "    </tr>\n",
              "    <tr>\n",
              "      <th>1</th>\n",
              "      <td>점프슈트</td>\n",
              "      <td>점프수트/오버롤팬츠/데님점프수트/데일리점프수트</td>\n",
              "      <td>NaN</td>\n",
              "      <td>데님/코튼/폴리에스터/나일론</td>\n",
              "      <td>28800</td>\n",
              "      <td>0</td>\n",
              "    </tr>\n",
              "    <tr>\n",
              "      <th>2</th>\n",
              "      <td>점프슈트</td>\n",
              "      <td>포켓점프수트/점프수트/데님점프수트/데일리점프수트</td>\n",
              "      <td>NaN</td>\n",
              "      <td>데님/코튼/폴리에스터/나일론</td>\n",
              "      <td>28800</td>\n",
              "      <td>0</td>\n",
              "    </tr>\n",
              "    <tr>\n",
              "      <th>3</th>\n",
              "      <td>점프슈트</td>\n",
              "      <td>스트링점프수트/반팔점프수트/반바지/반바지점프수트/점프수트/칼라점프슈트/데일리점프수트</td>\n",
              "      <td>베이지/블랙/그레이</td>\n",
              "      <td>폴리에스터/아크릴/나일론</td>\n",
              "      <td>35800</td>\n",
              "      <td>0</td>\n",
              "    </tr>\n",
              "    <tr>\n",
              "      <th>4</th>\n",
              "      <td>점프슈트</td>\n",
              "      <td>NaN</td>\n",
              "      <td>베이지/블랙/화이트/아이보리/카키</td>\n",
              "      <td>폴리에스터/나일론</td>\n",
              "      <td>28800</td>\n",
              "      <td>1</td>\n",
              "    </tr>\n",
              "    <tr>\n",
              "      <th>5</th>\n",
              "      <td>점프슈트</td>\n",
              "      <td>NaN</td>\n",
              "      <td>베이지/그레이</td>\n",
              "      <td>코튼</td>\n",
              "      <td>58900</td>\n",
              "      <td>0</td>\n",
              "    </tr>\n",
              "    <tr>\n",
              "      <th>6</th>\n",
              "      <td>점프슈트</td>\n",
              "      <td>오버롤데님/여름점프수트/오버롤팬츠/데님점프수트/점프수트</td>\n",
              "      <td>NaN</td>\n",
              "      <td>데님</td>\n",
              "      <td>28500</td>\n",
              "      <td>0</td>\n",
              "    </tr>\n",
              "    <tr>\n",
              "      <th>7</th>\n",
              "      <td>점프슈트</td>\n",
              "      <td>오버롤팬츠/점프수트/여름점프수트</td>\n",
              "      <td>라이트블루/차콜</td>\n",
              "      <td>텐셀/데님</td>\n",
              "      <td>29430</td>\n",
              "      <td>1</td>\n",
              "    </tr>\n",
              "    <tr>\n",
              "      <th>8</th>\n",
              "      <td>점프슈트</td>\n",
              "      <td>바캉스룩원피스</td>\n",
              "      <td>차콜/블랙/카키</td>\n",
              "      <td>폴리에스터</td>\n",
              "      <td>13900</td>\n",
              "      <td>0</td>\n",
              "    </tr>\n",
              "    <tr>\n",
              "      <th>9</th>\n",
              "      <td>점프슈트</td>\n",
              "      <td>NaN</td>\n",
              "      <td>베이지/블랙/카키</td>\n",
              "      <td>폴리에스터</td>\n",
              "      <td>27800</td>\n",
              "      <td>0</td>\n",
              "    </tr>\n",
              "  </tbody>\n",
              "</table>\n",
              "</div>\n",
              "    <div class=\"colab-df-buttons\">\n",
              "\n",
              "  <div class=\"colab-df-container\">\n",
              "    <button class=\"colab-df-convert\" onclick=\"convertToInteractive('df-53cbdbba-78f5-4e14-9e0a-1d8891bc733d')\"\n",
              "            title=\"Convert this dataframe to an interactive table.\"\n",
              "            style=\"display:none;\">\n",
              "\n",
              "  <svg xmlns=\"http://www.w3.org/2000/svg\" height=\"24px\" viewBox=\"0 -960 960 960\">\n",
              "    <path d=\"M120-120v-720h720v720H120Zm60-500h600v-160H180v160Zm220 220h160v-160H400v160Zm0 220h160v-160H400v160ZM180-400h160v-160H180v160Zm440 0h160v-160H620v160ZM180-180h160v-160H180v160Zm440 0h160v-160H620v160Z\"/>\n",
              "  </svg>\n",
              "    </button>\n",
              "\n",
              "  <style>\n",
              "    .colab-df-container {\n",
              "      display:flex;\n",
              "      gap: 12px;\n",
              "    }\n",
              "\n",
              "    .colab-df-convert {\n",
              "      background-color: #E8F0FE;\n",
              "      border: none;\n",
              "      border-radius: 50%;\n",
              "      cursor: pointer;\n",
              "      display: none;\n",
              "      fill: #1967D2;\n",
              "      height: 32px;\n",
              "      padding: 0 0 0 0;\n",
              "      width: 32px;\n",
              "    }\n",
              "\n",
              "    .colab-df-convert:hover {\n",
              "      background-color: #E2EBFA;\n",
              "      box-shadow: 0px 1px 2px rgba(60, 64, 67, 0.3), 0px 1px 3px 1px rgba(60, 64, 67, 0.15);\n",
              "      fill: #174EA6;\n",
              "    }\n",
              "\n",
              "    .colab-df-buttons div {\n",
              "      margin-bottom: 4px;\n",
              "    }\n",
              "\n",
              "    [theme=dark] .colab-df-convert {\n",
              "      background-color: #3B4455;\n",
              "      fill: #D2E3FC;\n",
              "    }\n",
              "\n",
              "    [theme=dark] .colab-df-convert:hover {\n",
              "      background-color: #434B5C;\n",
              "      box-shadow: 0px 1px 3px 1px rgba(0, 0, 0, 0.15);\n",
              "      filter: drop-shadow(0px 1px 2px rgba(0, 0, 0, 0.3));\n",
              "      fill: #FFFFFF;\n",
              "    }\n",
              "  </style>\n",
              "\n",
              "    <script>\n",
              "      const buttonEl =\n",
              "        document.querySelector('#df-53cbdbba-78f5-4e14-9e0a-1d8891bc733d button.colab-df-convert');\n",
              "      buttonEl.style.display =\n",
              "        google.colab.kernel.accessAllowed ? 'block' : 'none';\n",
              "\n",
              "      async function convertToInteractive(key) {\n",
              "        const element = document.querySelector('#df-53cbdbba-78f5-4e14-9e0a-1d8891bc733d');\n",
              "        const dataTable =\n",
              "          await google.colab.kernel.invokeFunction('convertToInteractive',\n",
              "                                                    [key], {});\n",
              "        if (!dataTable) return;\n",
              "\n",
              "        const docLinkHtml = 'Like what you see? Visit the ' +\n",
              "          '<a target=\"_blank\" href=https://colab.research.google.com/notebooks/data_table.ipynb>data table notebook</a>'\n",
              "          + ' to learn more about interactive tables.';\n",
              "        element.innerHTML = '';\n",
              "        dataTable['output_type'] = 'display_data';\n",
              "        await google.colab.output.renderOutput(dataTable, element);\n",
              "        const docLink = document.createElement('div');\n",
              "        docLink.innerHTML = docLinkHtml;\n",
              "        element.appendChild(docLink);\n",
              "      }\n",
              "    </script>\n",
              "  </div>\n",
              "\n",
              "\n",
              "<div id=\"df-b3446506-a0bd-4634-8a4f-0746000804a9\">\n",
              "  <button class=\"colab-df-quickchart\" onclick=\"quickchart('df-b3446506-a0bd-4634-8a4f-0746000804a9')\"\n",
              "            title=\"Suggest charts\"\n",
              "            style=\"display:none;\">\n",
              "\n",
              "<svg xmlns=\"http://www.w3.org/2000/svg\" height=\"24px\"viewBox=\"0 0 24 24\"\n",
              "     width=\"24px\">\n",
              "    <g>\n",
              "        <path d=\"M19 3H5c-1.1 0-2 .9-2 2v14c0 1.1.9 2 2 2h14c1.1 0 2-.9 2-2V5c0-1.1-.9-2-2-2zM9 17H7v-7h2v7zm4 0h-2V7h2v10zm4 0h-2v-4h2v4z\"/>\n",
              "    </g>\n",
              "</svg>\n",
              "  </button>\n",
              "\n",
              "<style>\n",
              "  .colab-df-quickchart {\n",
              "      --bg-color: #E8F0FE;\n",
              "      --fill-color: #1967D2;\n",
              "      --hover-bg-color: #E2EBFA;\n",
              "      --hover-fill-color: #174EA6;\n",
              "      --disabled-fill-color: #AAA;\n",
              "      --disabled-bg-color: #DDD;\n",
              "  }\n",
              "\n",
              "  [theme=dark] .colab-df-quickchart {\n",
              "      --bg-color: #3B4455;\n",
              "      --fill-color: #D2E3FC;\n",
              "      --hover-bg-color: #434B5C;\n",
              "      --hover-fill-color: #FFFFFF;\n",
              "      --disabled-bg-color: #3B4455;\n",
              "      --disabled-fill-color: #666;\n",
              "  }\n",
              "\n",
              "  .colab-df-quickchart {\n",
              "    background-color: var(--bg-color);\n",
              "    border: none;\n",
              "    border-radius: 50%;\n",
              "    cursor: pointer;\n",
              "    display: none;\n",
              "    fill: var(--fill-color);\n",
              "    height: 32px;\n",
              "    padding: 0;\n",
              "    width: 32px;\n",
              "  }\n",
              "\n",
              "  .colab-df-quickchart:hover {\n",
              "    background-color: var(--hover-bg-color);\n",
              "    box-shadow: 0 1px 2px rgba(60, 64, 67, 0.3), 0 1px 3px 1px rgba(60, 64, 67, 0.15);\n",
              "    fill: var(--button-hover-fill-color);\n",
              "  }\n",
              "\n",
              "  .colab-df-quickchart-complete:disabled,\n",
              "  .colab-df-quickchart-complete:disabled:hover {\n",
              "    background-color: var(--disabled-bg-color);\n",
              "    fill: var(--disabled-fill-color);\n",
              "    box-shadow: none;\n",
              "  }\n",
              "\n",
              "  .colab-df-spinner {\n",
              "    border: 2px solid var(--fill-color);\n",
              "    border-color: transparent;\n",
              "    border-bottom-color: var(--fill-color);\n",
              "    animation:\n",
              "      spin 1s steps(1) infinite;\n",
              "  }\n",
              "\n",
              "  @keyframes spin {\n",
              "    0% {\n",
              "      border-color: transparent;\n",
              "      border-bottom-color: var(--fill-color);\n",
              "      border-left-color: var(--fill-color);\n",
              "    }\n",
              "    20% {\n",
              "      border-color: transparent;\n",
              "      border-left-color: var(--fill-color);\n",
              "      border-top-color: var(--fill-color);\n",
              "    }\n",
              "    30% {\n",
              "      border-color: transparent;\n",
              "      border-left-color: var(--fill-color);\n",
              "      border-top-color: var(--fill-color);\n",
              "      border-right-color: var(--fill-color);\n",
              "    }\n",
              "    40% {\n",
              "      border-color: transparent;\n",
              "      border-right-color: var(--fill-color);\n",
              "      border-top-color: var(--fill-color);\n",
              "    }\n",
              "    60% {\n",
              "      border-color: transparent;\n",
              "      border-right-color: var(--fill-color);\n",
              "    }\n",
              "    80% {\n",
              "      border-color: transparent;\n",
              "      border-right-color: var(--fill-color);\n",
              "      border-bottom-color: var(--fill-color);\n",
              "    }\n",
              "    90% {\n",
              "      border-color: transparent;\n",
              "      border-bottom-color: var(--fill-color);\n",
              "    }\n",
              "  }\n",
              "</style>\n",
              "\n",
              "  <script>\n",
              "    async function quickchart(key) {\n",
              "      const quickchartButtonEl =\n",
              "        document.querySelector('#' + key + ' button');\n",
              "      quickchartButtonEl.disabled = true;  // To prevent multiple clicks.\n",
              "      quickchartButtonEl.classList.add('colab-df-spinner');\n",
              "      try {\n",
              "        const charts = await google.colab.kernel.invokeFunction(\n",
              "            'suggestCharts', [key], {});\n",
              "      } catch (error) {\n",
              "        console.error('Error during call to suggestCharts:', error);\n",
              "      }\n",
              "      quickchartButtonEl.classList.remove('colab-df-spinner');\n",
              "      quickchartButtonEl.classList.add('colab-df-quickchart-complete');\n",
              "    }\n",
              "    (() => {\n",
              "      let quickchartButtonEl =\n",
              "        document.querySelector('#df-b3446506-a0bd-4634-8a4f-0746000804a9 button');\n",
              "      quickchartButtonEl.style.display =\n",
              "        google.colab.kernel.accessAllowed ? 'block' : 'none';\n",
              "    })();\n",
              "  </script>\n",
              "</div>\n",
              "\n",
              "    </div>\n",
              "  </div>\n"
            ],
            "application/vnd.google.colaboratory.intrinsic+json": {
              "type": "dataframe",
              "variable_name": "DF"
            }
          },
          "metadata": {},
          "execution_count": 11
        }
      ]
    },
    {
      "cell_type": "markdown",
      "source": [
        "* 결측치 치환"
      ],
      "metadata": {
        "id": "tkxgW-781oPi"
      }
    },
    {
      "cell_type": "code",
      "source": [
        "DF['item'].fillna(DF['category_small_desc'], inplace = True)\n",
        "\n",
        "DF.head(10)"
      ],
      "metadata": {
        "colab": {
          "base_uri": "https://localhost:8080/",
          "height": 1000
        },
        "id": "usYeMPQP32Ji",
        "outputId": "408b877f-23e2-48dd-a187-37cefd2c44e0"
      },
      "execution_count": 12,
      "outputs": [
        {
          "output_type": "execute_result",
          "data": {
            "text/plain": [
              "  category_small_desc                                            item  \\\n",
              "0                점프슈트             바람막이/반바지/여름점프수트/반팔점프수트/반바지점프수트/점프수트   \n",
              "1                점프슈트                       점프수트/오버롤팬츠/데님점프수트/데일리점프수트   \n",
              "2                점프슈트                      포켓점프수트/점프수트/데님점프수트/데일리점프수트   \n",
              "3                점프슈트  스트링점프수트/반팔점프수트/반바지/반바지점프수트/점프수트/칼라점프슈트/데일리점프수트   \n",
              "4                점프슈트                                            점프슈트   \n",
              "5                점프슈트                                            점프슈트   \n",
              "6                점프슈트                  오버롤데님/여름점프수트/오버롤팬츠/데님점프수트/점프수트   \n",
              "7                점프슈트                               오버롤팬츠/점프수트/여름점프수트   \n",
              "8                점프슈트                                         바캉스룩원피스   \n",
              "9                점프슈트                                            점프슈트   \n",
              "\n",
              "                color         material  sale_price  recent_sale_count  \n",
              "0              베이지/블랙  코튼/폴리에스터/스판/나일론       28800                  0  \n",
              "1                 NaN  데님/코튼/폴리에스터/나일론       28800                  0  \n",
              "2                 NaN  데님/코튼/폴리에스터/나일론       28800                  0  \n",
              "3          베이지/블랙/그레이    폴리에스터/아크릴/나일론       35800                  0  \n",
              "4  베이지/블랙/화이트/아이보리/카키        폴리에스터/나일론       28800                  1  \n",
              "5             베이지/그레이               코튼       58900                  0  \n",
              "6                 NaN               데님       28500                  0  \n",
              "7            라이트블루/차콜            텐셀/데님       29430                  1  \n",
              "8            차콜/블랙/카키            폴리에스터       13900                  0  \n",
              "9           베이지/블랙/카키            폴리에스터       27800                  0  "
            ],
            "text/html": [
              "\n",
              "  <div id=\"df-a85e1ad2-7aa6-4e80-9f22-bfbb1d7cc8ce\" class=\"colab-df-container\">\n",
              "    <div>\n",
              "<style scoped>\n",
              "    .dataframe tbody tr th:only-of-type {\n",
              "        vertical-align: middle;\n",
              "    }\n",
              "\n",
              "    .dataframe tbody tr th {\n",
              "        vertical-align: top;\n",
              "    }\n",
              "\n",
              "    .dataframe thead th {\n",
              "        text-align: right;\n",
              "    }\n",
              "</style>\n",
              "<table border=\"1\" class=\"dataframe\">\n",
              "  <thead>\n",
              "    <tr style=\"text-align: right;\">\n",
              "      <th></th>\n",
              "      <th>category_small_desc</th>\n",
              "      <th>item</th>\n",
              "      <th>color</th>\n",
              "      <th>material</th>\n",
              "      <th>sale_price</th>\n",
              "      <th>recent_sale_count</th>\n",
              "    </tr>\n",
              "  </thead>\n",
              "  <tbody>\n",
              "    <tr>\n",
              "      <th>0</th>\n",
              "      <td>점프슈트</td>\n",
              "      <td>바람막이/반바지/여름점프수트/반팔점프수트/반바지점프수트/점프수트</td>\n",
              "      <td>베이지/블랙</td>\n",
              "      <td>코튼/폴리에스터/스판/나일론</td>\n",
              "      <td>28800</td>\n",
              "      <td>0</td>\n",
              "    </tr>\n",
              "    <tr>\n",
              "      <th>1</th>\n",
              "      <td>점프슈트</td>\n",
              "      <td>점프수트/오버롤팬츠/데님점프수트/데일리점프수트</td>\n",
              "      <td>NaN</td>\n",
              "      <td>데님/코튼/폴리에스터/나일론</td>\n",
              "      <td>28800</td>\n",
              "      <td>0</td>\n",
              "    </tr>\n",
              "    <tr>\n",
              "      <th>2</th>\n",
              "      <td>점프슈트</td>\n",
              "      <td>포켓점프수트/점프수트/데님점프수트/데일리점프수트</td>\n",
              "      <td>NaN</td>\n",
              "      <td>데님/코튼/폴리에스터/나일론</td>\n",
              "      <td>28800</td>\n",
              "      <td>0</td>\n",
              "    </tr>\n",
              "    <tr>\n",
              "      <th>3</th>\n",
              "      <td>점프슈트</td>\n",
              "      <td>스트링점프수트/반팔점프수트/반바지/반바지점프수트/점프수트/칼라점프슈트/데일리점프수트</td>\n",
              "      <td>베이지/블랙/그레이</td>\n",
              "      <td>폴리에스터/아크릴/나일론</td>\n",
              "      <td>35800</td>\n",
              "      <td>0</td>\n",
              "    </tr>\n",
              "    <tr>\n",
              "      <th>4</th>\n",
              "      <td>점프슈트</td>\n",
              "      <td>점프슈트</td>\n",
              "      <td>베이지/블랙/화이트/아이보리/카키</td>\n",
              "      <td>폴리에스터/나일론</td>\n",
              "      <td>28800</td>\n",
              "      <td>1</td>\n",
              "    </tr>\n",
              "    <tr>\n",
              "      <th>5</th>\n",
              "      <td>점프슈트</td>\n",
              "      <td>점프슈트</td>\n",
              "      <td>베이지/그레이</td>\n",
              "      <td>코튼</td>\n",
              "      <td>58900</td>\n",
              "      <td>0</td>\n",
              "    </tr>\n",
              "    <tr>\n",
              "      <th>6</th>\n",
              "      <td>점프슈트</td>\n",
              "      <td>오버롤데님/여름점프수트/오버롤팬츠/데님점프수트/점프수트</td>\n",
              "      <td>NaN</td>\n",
              "      <td>데님</td>\n",
              "      <td>28500</td>\n",
              "      <td>0</td>\n",
              "    </tr>\n",
              "    <tr>\n",
              "      <th>7</th>\n",
              "      <td>점프슈트</td>\n",
              "      <td>오버롤팬츠/점프수트/여름점프수트</td>\n",
              "      <td>라이트블루/차콜</td>\n",
              "      <td>텐셀/데님</td>\n",
              "      <td>29430</td>\n",
              "      <td>1</td>\n",
              "    </tr>\n",
              "    <tr>\n",
              "      <th>8</th>\n",
              "      <td>점프슈트</td>\n",
              "      <td>바캉스룩원피스</td>\n",
              "      <td>차콜/블랙/카키</td>\n",
              "      <td>폴리에스터</td>\n",
              "      <td>13900</td>\n",
              "      <td>0</td>\n",
              "    </tr>\n",
              "    <tr>\n",
              "      <th>9</th>\n",
              "      <td>점프슈트</td>\n",
              "      <td>점프슈트</td>\n",
              "      <td>베이지/블랙/카키</td>\n",
              "      <td>폴리에스터</td>\n",
              "      <td>27800</td>\n",
              "      <td>0</td>\n",
              "    </tr>\n",
              "  </tbody>\n",
              "</table>\n",
              "</div>\n",
              "    <div class=\"colab-df-buttons\">\n",
              "\n",
              "  <div class=\"colab-df-container\">\n",
              "    <button class=\"colab-df-convert\" onclick=\"convertToInteractive('df-a85e1ad2-7aa6-4e80-9f22-bfbb1d7cc8ce')\"\n",
              "            title=\"Convert this dataframe to an interactive table.\"\n",
              "            style=\"display:none;\">\n",
              "\n",
              "  <svg xmlns=\"http://www.w3.org/2000/svg\" height=\"24px\" viewBox=\"0 -960 960 960\">\n",
              "    <path d=\"M120-120v-720h720v720H120Zm60-500h600v-160H180v160Zm220 220h160v-160H400v160Zm0 220h160v-160H400v160ZM180-400h160v-160H180v160Zm440 0h160v-160H620v160ZM180-180h160v-160H180v160Zm440 0h160v-160H620v160Z\"/>\n",
              "  </svg>\n",
              "    </button>\n",
              "\n",
              "  <style>\n",
              "    .colab-df-container {\n",
              "      display:flex;\n",
              "      gap: 12px;\n",
              "    }\n",
              "\n",
              "    .colab-df-convert {\n",
              "      background-color: #E8F0FE;\n",
              "      border: none;\n",
              "      border-radius: 50%;\n",
              "      cursor: pointer;\n",
              "      display: none;\n",
              "      fill: #1967D2;\n",
              "      height: 32px;\n",
              "      padding: 0 0 0 0;\n",
              "      width: 32px;\n",
              "    }\n",
              "\n",
              "    .colab-df-convert:hover {\n",
              "      background-color: #E2EBFA;\n",
              "      box-shadow: 0px 1px 2px rgba(60, 64, 67, 0.3), 0px 1px 3px 1px rgba(60, 64, 67, 0.15);\n",
              "      fill: #174EA6;\n",
              "    }\n",
              "\n",
              "    .colab-df-buttons div {\n",
              "      margin-bottom: 4px;\n",
              "    }\n",
              "\n",
              "    [theme=dark] .colab-df-convert {\n",
              "      background-color: #3B4455;\n",
              "      fill: #D2E3FC;\n",
              "    }\n",
              "\n",
              "    [theme=dark] .colab-df-convert:hover {\n",
              "      background-color: #434B5C;\n",
              "      box-shadow: 0px 1px 3px 1px rgba(0, 0, 0, 0.15);\n",
              "      filter: drop-shadow(0px 1px 2px rgba(0, 0, 0, 0.3));\n",
              "      fill: #FFFFFF;\n",
              "    }\n",
              "  </style>\n",
              "\n",
              "    <script>\n",
              "      const buttonEl =\n",
              "        document.querySelector('#df-a85e1ad2-7aa6-4e80-9f22-bfbb1d7cc8ce button.colab-df-convert');\n",
              "      buttonEl.style.display =\n",
              "        google.colab.kernel.accessAllowed ? 'block' : 'none';\n",
              "\n",
              "      async function convertToInteractive(key) {\n",
              "        const element = document.querySelector('#df-a85e1ad2-7aa6-4e80-9f22-bfbb1d7cc8ce');\n",
              "        const dataTable =\n",
              "          await google.colab.kernel.invokeFunction('convertToInteractive',\n",
              "                                                    [key], {});\n",
              "        if (!dataTable) return;\n",
              "\n",
              "        const docLinkHtml = 'Like what you see? Visit the ' +\n",
              "          '<a target=\"_blank\" href=https://colab.research.google.com/notebooks/data_table.ipynb>data table notebook</a>'\n",
              "          + ' to learn more about interactive tables.';\n",
              "        element.innerHTML = '';\n",
              "        dataTable['output_type'] = 'display_data';\n",
              "        await google.colab.output.renderOutput(dataTable, element);\n",
              "        const docLink = document.createElement('div');\n",
              "        docLink.innerHTML = docLinkHtml;\n",
              "        element.appendChild(docLink);\n",
              "      }\n",
              "    </script>\n",
              "  </div>\n",
              "\n",
              "\n",
              "<div id=\"df-bbe87da6-43c2-4e23-903c-36544bfdbb9f\">\n",
              "  <button class=\"colab-df-quickchart\" onclick=\"quickchart('df-bbe87da6-43c2-4e23-903c-36544bfdbb9f')\"\n",
              "            title=\"Suggest charts\"\n",
              "            style=\"display:none;\">\n",
              "\n",
              "<svg xmlns=\"http://www.w3.org/2000/svg\" height=\"24px\"viewBox=\"0 0 24 24\"\n",
              "     width=\"24px\">\n",
              "    <g>\n",
              "        <path d=\"M19 3H5c-1.1 0-2 .9-2 2v14c0 1.1.9 2 2 2h14c1.1 0 2-.9 2-2V5c0-1.1-.9-2-2-2zM9 17H7v-7h2v7zm4 0h-2V7h2v10zm4 0h-2v-4h2v4z\"/>\n",
              "    </g>\n",
              "</svg>\n",
              "  </button>\n",
              "\n",
              "<style>\n",
              "  .colab-df-quickchart {\n",
              "      --bg-color: #E8F0FE;\n",
              "      --fill-color: #1967D2;\n",
              "      --hover-bg-color: #E2EBFA;\n",
              "      --hover-fill-color: #174EA6;\n",
              "      --disabled-fill-color: #AAA;\n",
              "      --disabled-bg-color: #DDD;\n",
              "  }\n",
              "\n",
              "  [theme=dark] .colab-df-quickchart {\n",
              "      --bg-color: #3B4455;\n",
              "      --fill-color: #D2E3FC;\n",
              "      --hover-bg-color: #434B5C;\n",
              "      --hover-fill-color: #FFFFFF;\n",
              "      --disabled-bg-color: #3B4455;\n",
              "      --disabled-fill-color: #666;\n",
              "  }\n",
              "\n",
              "  .colab-df-quickchart {\n",
              "    background-color: var(--bg-color);\n",
              "    border: none;\n",
              "    border-radius: 50%;\n",
              "    cursor: pointer;\n",
              "    display: none;\n",
              "    fill: var(--fill-color);\n",
              "    height: 32px;\n",
              "    padding: 0;\n",
              "    width: 32px;\n",
              "  }\n",
              "\n",
              "  .colab-df-quickchart:hover {\n",
              "    background-color: var(--hover-bg-color);\n",
              "    box-shadow: 0 1px 2px rgba(60, 64, 67, 0.3), 0 1px 3px 1px rgba(60, 64, 67, 0.15);\n",
              "    fill: var(--button-hover-fill-color);\n",
              "  }\n",
              "\n",
              "  .colab-df-quickchart-complete:disabled,\n",
              "  .colab-df-quickchart-complete:disabled:hover {\n",
              "    background-color: var(--disabled-bg-color);\n",
              "    fill: var(--disabled-fill-color);\n",
              "    box-shadow: none;\n",
              "  }\n",
              "\n",
              "  .colab-df-spinner {\n",
              "    border: 2px solid var(--fill-color);\n",
              "    border-color: transparent;\n",
              "    border-bottom-color: var(--fill-color);\n",
              "    animation:\n",
              "      spin 1s steps(1) infinite;\n",
              "  }\n",
              "\n",
              "  @keyframes spin {\n",
              "    0% {\n",
              "      border-color: transparent;\n",
              "      border-bottom-color: var(--fill-color);\n",
              "      border-left-color: var(--fill-color);\n",
              "    }\n",
              "    20% {\n",
              "      border-color: transparent;\n",
              "      border-left-color: var(--fill-color);\n",
              "      border-top-color: var(--fill-color);\n",
              "    }\n",
              "    30% {\n",
              "      border-color: transparent;\n",
              "      border-left-color: var(--fill-color);\n",
              "      border-top-color: var(--fill-color);\n",
              "      border-right-color: var(--fill-color);\n",
              "    }\n",
              "    40% {\n",
              "      border-color: transparent;\n",
              "      border-right-color: var(--fill-color);\n",
              "      border-top-color: var(--fill-color);\n",
              "    }\n",
              "    60% {\n",
              "      border-color: transparent;\n",
              "      border-right-color: var(--fill-color);\n",
              "    }\n",
              "    80% {\n",
              "      border-color: transparent;\n",
              "      border-right-color: var(--fill-color);\n",
              "      border-bottom-color: var(--fill-color);\n",
              "    }\n",
              "    90% {\n",
              "      border-color: transparent;\n",
              "      border-bottom-color: var(--fill-color);\n",
              "    }\n",
              "  }\n",
              "</style>\n",
              "\n",
              "  <script>\n",
              "    async function quickchart(key) {\n",
              "      const quickchartButtonEl =\n",
              "        document.querySelector('#' + key + ' button');\n",
              "      quickchartButtonEl.disabled = true;  // To prevent multiple clicks.\n",
              "      quickchartButtonEl.classList.add('colab-df-spinner');\n",
              "      try {\n",
              "        const charts = await google.colab.kernel.invokeFunction(\n",
              "            'suggestCharts', [key], {});\n",
              "      } catch (error) {\n",
              "        console.error('Error during call to suggestCharts:', error);\n",
              "      }\n",
              "      quickchartButtonEl.classList.remove('colab-df-spinner');\n",
              "      quickchartButtonEl.classList.add('colab-df-quickchart-complete');\n",
              "    }\n",
              "    (() => {\n",
              "      let quickchartButtonEl =\n",
              "        document.querySelector('#df-bbe87da6-43c2-4e23-903c-36544bfdbb9f button');\n",
              "      quickchartButtonEl.style.display =\n",
              "        google.colab.kernel.accessAllowed ? 'block' : 'none';\n",
              "    })();\n",
              "  </script>\n",
              "</div>\n",
              "\n",
              "    </div>\n",
              "  </div>\n"
            ],
            "application/vnd.google.colaboratory.intrinsic+json": {
              "type": "dataframe",
              "variable_name": "DF"
            }
          },
          "metadata": {},
          "execution_count": 12
        }
      ]
    },
    {
      "cell_type": "code",
      "source": [
        "DF.isnull().sum(axis = 0)"
      ],
      "metadata": {
        "colab": {
          "base_uri": "https://localhost:8080/"
        },
        "id": "hVxvgTyQ434q",
        "outputId": "b3802315-0c8c-48c3-a506-1541c61e3f96"
      },
      "execution_count": 13,
      "outputs": [
        {
          "output_type": "execute_result",
          "data": {
            "text/plain": [
              "category_small_desc         0\n",
              "item                        0\n",
              "color                  146245\n",
              "material               103161\n",
              "sale_price                  0\n",
              "recent_sale_count           0\n",
              "dtype: int64"
            ]
          },
          "metadata": {},
          "execution_count": 13
        }
      ]
    },
    {
      "cell_type": "code",
      "source": [
        "import missingno as msno\n",
        "\n",
        "msno.bar(DF,\n",
        "         figsize = (15, 7),\n",
        "         color = (0.2, 0.2, 0.8));"
      ],
      "metadata": {
        "colab": {
          "base_uri": "https://localhost:8080/",
          "height": 398
        },
        "id": "9MoiUrvxjpkd",
        "outputId": "3d97c940-0f00-41f0-f844-ce79ba5a41e0"
      },
      "execution_count": 14,
      "outputs": [
        {
          "output_type": "display_data",
          "data": {
            "text/plain": [
              "<Figure size 1500x700 with 3 Axes>"
            ],
            "image/png": "[encoded data removed]"
          },
          "metadata": {}
        }
      ]
    },
    {
      "cell_type": "code",
      "source": [
        "msno.matrix(DF,\n",
        "            figsize = (15, 7),\n",
        "            color = (0.8, 0.2, 0.2));"
      ],
      "metadata": {
        "colab": {
          "base_uri": "https://localhost:8080/",
          "height": 376
        },
        "id": "1cMW0p0bkCfZ",
        "outputId": "0e6ee366-cff9-4c31-fb71-c033bd965f41"
      },
      "execution_count": 15,
      "outputs": [
        {
          "output_type": "display_data",
          "data": {
            "text/plain": [
              "<Figure size 1500x700 with 2 Axes>"
            ],
            "image/png": "[encoded data removed]"
          },
          "metadata": {}
        }
      ]
    },
    {
      "cell_type": "code",
      "source": [
        "DF.dropna(inplace = True)\n",
        "DF.head()"
      ],
      "metadata": {
        "colab": {
          "base_uri": "https://localhost:8080/",
          "height": 1000
        },
        "id": "6Gra3WMejSix",
        "outputId": "a55fe521-e4ec-4206-e094-bc9a9df9babd"
      },
      "execution_count": 16,
      "outputs": [
        {
          "output_type": "execute_result",
          "data": {
            "text/plain": [
              "  category_small_desc                                            item  \\\n",
              "0                점프슈트             바람막이/반바지/여름점프수트/반팔점프수트/반바지점프수트/점프수트   \n",
              "3                점프슈트  스트링점프수트/반팔점프수트/반바지/반바지점프수트/점프수트/칼라점프슈트/데일리점프수트   \n",
              "4                점프슈트                                            점프슈트   \n",
              "5                점프슈트                                            점프슈트   \n",
              "7                점프슈트                               오버롤팬츠/점프수트/여름점프수트   \n",
              "\n",
              "                color         material  sale_price  recent_sale_count  \n",
              "0              베이지/블랙  코튼/폴리에스터/스판/나일론       28800                  0  \n",
              "3          베이지/블랙/그레이    폴리에스터/아크릴/나일론       35800                  0  \n",
              "4  베이지/블랙/화이트/아이보리/카키        폴리에스터/나일론       28800                  1  \n",
              "5             베이지/그레이               코튼       58900                  0  \n",
              "7            라이트블루/차콜            텐셀/데님       29430                  1  "
            ],
            "text/html": [
              "\n",
              "  <div id=\"df-3f76b44a-fd9b-41d8-a722-36ab53c40614\" class=\"colab-df-container\">\n",
              "    <div>\n",
              "<style scoped>\n",
              "    .dataframe tbody tr th:only-of-type {\n",
              "        vertical-align: middle;\n",
              "    }\n",
              "\n",
              "    .dataframe tbody tr th {\n",
              "        vertical-align: top;\n",
              "    }\n",
              "\n",
              "    .dataframe thead th {\n",
              "        text-align: right;\n",
              "    }\n",
              "</style>\n",
              "<table border=\"1\" class=\"dataframe\">\n",
              "  <thead>\n",
              "    <tr style=\"text-align: right;\">\n",
              "      <th></th>\n",
              "      <th>category_small_desc</th>\n",
              "      <th>item</th>\n",
              "      <th>color</th>\n",
              "      <th>material</th>\n",
              "      <th>sale_price</th>\n",
              "      <th>recent_sale_count</th>\n",
              "    </tr>\n",
              "  </thead>\n",
              "  <tbody>\n",
              "    <tr>\n",
              "      <th>0</th>\n",
              "      <td>점프슈트</td>\n",
              "      <td>바람막이/반바지/여름점프수트/반팔점프수트/반바지점프수트/점프수트</td>\n",
              "      <td>베이지/블랙</td>\n",
              "      <td>코튼/폴리에스터/스판/나일론</td>\n",
              "      <td>28800</td>\n",
              "      <td>0</td>\n",
              "    </tr>\n",
              "    <tr>\n",
              "      <th>3</th>\n",
              "      <td>점프슈트</td>\n",
              "      <td>스트링점프수트/반팔점프수트/반바지/반바지점프수트/점프수트/칼라점프슈트/데일리점프수트</td>\n",
              "      <td>베이지/블랙/그레이</td>\n",
              "      <td>폴리에스터/아크릴/나일론</td>\n",
              "      <td>35800</td>\n",
              "      <td>0</td>\n",
              "    </tr>\n",
              "    <tr>\n",
              "      <th>4</th>\n",
              "      <td>점프슈트</td>\n",
              "      <td>점프슈트</td>\n",
              "      <td>베이지/블랙/화이트/아이보리/카키</td>\n",
              "      <td>폴리에스터/나일론</td>\n",
              "      <td>28800</td>\n",
              "      <td>1</td>\n",
              "    </tr>\n",
              "    <tr>\n",
              "      <th>5</th>\n",
              "      <td>점프슈트</td>\n",
              "      <td>점프슈트</td>\n",
              "      <td>베이지/그레이</td>\n",
              "      <td>코튼</td>\n",
              "      <td>58900</td>\n",
              "      <td>0</td>\n",
              "    </tr>\n",
              "    <tr>\n",
              "      <th>7</th>\n",
              "      <td>점프슈트</td>\n",
              "      <td>오버롤팬츠/점프수트/여름점프수트</td>\n",
              "      <td>라이트블루/차콜</td>\n",
              "      <td>텐셀/데님</td>\n",
              "      <td>29430</td>\n",
              "      <td>1</td>\n",
              "    </tr>\n",
              "  </tbody>\n",
              "</table>\n",
              "</div>\n",
              "    <div class=\"colab-df-buttons\">\n",
              "\n",
              "  <div class=\"colab-df-container\">\n",
              "    <button class=\"colab-df-convert\" onclick=\"convertToInteractive('df-3f76b44a-fd9b-41d8-a722-36ab53c40614')\"\n",
              "            title=\"Convert this dataframe to an interactive table.\"\n",
              "            style=\"display:none;\">\n",
              "\n",
              "  <svg xmlns=\"http://www.w3.org/2000/svg\" height=\"24px\" viewBox=\"0 -960 960 960\">\n",
              "    <path d=\"M120-120v-720h720v720H120Zm60-500h600v-160H180v160Zm220 220h160v-160H400v160Zm0 220h160v-160H400v160ZM180-400h160v-160H180v160Zm440 0h160v-160H620v160ZM180-180h160v-160H180v160Zm440 0h160v-160H620v160Z\"/>\n",
              "  </svg>\n",
              "    </button>\n",
              "\n",
              "  <style>\n",
              "    .colab-df-container {\n",
              "      display:flex;\n",
              "      gap: 12px;\n",
              "    }\n",
              "\n",
              "    .colab-df-convert {\n",
              "      background-color: #E8F0FE;\n",
              "      border: none;\n",
              "      border-radius: 50%;\n",
              "      cursor: pointer;\n",
              "      display: none;\n",
              "      fill: #1967D2;\n",
              "      height: 32px;\n",
              "      padding: 0 0 0 0;\n",
              "      width: 32px;\n",
              "    }\n",
              "\n",
              "    .colab-df-convert:hover {\n",
              "      background-color: #E2EBFA;\n",
              "      box-shadow: 0px 1px 2px rgba(60, 64, 67, 0.3), 0px 1px 3px 1px rgba(60, 64, 67, 0.15);\n",
              "      fill: #174EA6;\n",
              "    }\n",
              "\n",
              "    .colab-df-buttons div {\n",
              "      margin-bottom: 4px;\n",
              "    }\n",
              "\n",
              "    [theme=dark] .colab-df-convert {\n",
              "      background-color: #3B4455;\n",
              "      fill: #D2E3FC;\n",
              "    }\n",
              "\n",
              "    [theme=dark] .colab-df-convert:hover {\n",
              "      background-color: #434B5C;\n",
              "      box-shadow: 0px 1px 3px 1px rgba(0, 0, 0, 0.15);\n",
              "      filter: drop-shadow(0px 1px 2px rgba(0, 0, 0, 0.3));\n",
              "      fill: #FFFFFF;\n",
              "    }\n",
              "  </style>\n",
              "\n",
              "    <script>\n",
              "      const buttonEl =\n",
              "        document.querySelector('#df-3f76b44a-fd9b-41d8-a722-36ab53c40614 button.colab-df-convert');\n",
              "      buttonEl.style.display =\n",
              "        google.colab.kernel.accessAllowed ? 'block' : 'none';\n",
              "\n",
              "      async function convertToInteractive(key) {\n",
              "        const element = document.querySelector('#df-3f76b44a-fd9b-41d8-a722-36ab53c40614');\n",
              "        const dataTable =\n",
              "          await google.colab.kernel.invokeFunction('convertToInteractive',\n",
              "                                                    [key], {});\n",
              "        if (!dataTable) return;\n",
              "\n",
              "        const docLinkHtml = 'Like what you see? Visit the ' +\n",
              "          '<a target=\"_blank\" href=https://colab.research.google.com/notebooks/data_table.ipynb>data table notebook</a>'\n",
              "          + ' to learn more about interactive tables.';\n",
              "        element.innerHTML = '';\n",
              "        dataTable['output_type'] = 'display_data';\n",
              "        await google.colab.output.renderOutput(dataTable, element);\n",
              "        const docLink = document.createElement('div');\n",
              "        docLink.innerHTML = docLinkHtml;\n",
              "        element.appendChild(docLink);\n",
              "      }\n",
              "    </script>\n",
              "  </div>\n",
              "\n",
              "\n",
              "<div id=\"df-ba27c460-b4b1-4dc8-9d51-ddae572cb204\">\n",
              "  <button class=\"colab-df-quickchart\" onclick=\"quickchart('df-ba27c460-b4b1-4dc8-9d51-ddae572cb204')\"\n",
              "            title=\"Suggest charts\"\n",
              "            style=\"display:none;\">\n",
              "\n",
              "<svg xmlns=\"http://www.w3.org/2000/svg\" height=\"24px\"viewBox=\"0 0 24 24\"\n",
              "     width=\"24px\">\n",
              "    <g>\n",
              "        <path d=\"M19 3H5c-1.1 0-2 .9-2 2v14c0 1.1.9 2 2 2h14c1.1 0 2-.9 2-2V5c0-1.1-.9-2-2-2zM9 17H7v-7h2v7zm4 0h-2V7h2v10zm4 0h-2v-4h2v4z\"/>\n",
              "    </g>\n",
              "</svg>\n",
              "  </button>\n",
              "\n",
              "<style>\n",
              "  .colab-df-quickchart {\n",
              "      --bg-color: #E8F0FE;\n",
              "      --fill-color: #1967D2;\n",
              "      --hover-bg-color: #E2EBFA;\n",
              "      --hover-fill-color: #174EA6;\n",
              "      --disabled-fill-color: #AAA;\n",
              "      --disabled-bg-color: #DDD;\n",
              "  }\n",
              "\n",
              "  [theme=dark] .colab-df-quickchart {\n",
              "      --bg-color: #3B4455;\n",
              "      --fill-color: #D2E3FC;\n",
              "      --hover-bg-color: #434B5C;\n",
              "      --hover-fill-color: #FFFFFF;\n",
              "      --disabled-bg-color: #3B4455;\n",
              "      --disabled-fill-color: #666;\n",
              "  }\n",
              "\n",
              "  .colab-df-quickchart {\n",
              "    background-color: var(--bg-color);\n",
              "    border: none;\n",
              "    border-radius: 50%;\n",
              "    cursor: pointer;\n",
              "    display: none;\n",
              "    fill: var(--fill-color);\n",
              "    height: 32px;\n",
              "    padding: 0;\n",
              "    width: 32px;\n",
              "  }\n",
              "\n",
              "  .colab-df-quickchart:hover {\n",
              "    background-color: var(--hover-bg-color);\n",
              "    box-shadow: 0 1px 2px rgba(60, 64, 67, 0.3), 0 1px 3px 1px rgba(60, 64, 67, 0.15);\n",
              "    fill: var(--button-hover-fill-color);\n",
              "  }\n",
              "\n",
              "  .colab-df-quickchart-complete:disabled,\n",
              "  .colab-df-quickchart-complete:disabled:hover {\n",
              "    background-color: var(--disabled-bg-color);\n",
              "    fill: var(--disabled-fill-color);\n",
              "    box-shadow: none;\n",
              "  }\n",
              "\n",
              "  .colab-df-spinner {\n",
              "    border: 2px solid var(--fill-color);\n",
              "    border-color: transparent;\n",
              "    border-bottom-color: var(--fill-color);\n",
              "    animation:\n",
              "      spin 1s steps(1) infinite;\n",
              "  }\n",
              "\n",
              "  @keyframes spin {\n",
              "    0% {\n",
              "      border-color: transparent;\n",
              "      border-bottom-color: var(--fill-color);\n",
              "      border-left-color: var(--fill-color);\n",
              "    }\n",
              "    20% {\n",
              "      border-color: transparent;\n",
              "      border-left-color: var(--fill-color);\n",
              "      border-top-color: var(--fill-color);\n",
              "    }\n",
              "    30% {\n",
              "      border-color: transparent;\n",
              "      border-left-color: var(--fill-color);\n",
              "      border-top-color: var(--fill-color);\n",
              "      border-right-color: var(--fill-color);\n",
              "    }\n",
              "    40% {\n",
              "      border-color: transparent;\n",
              "      border-right-color: var(--fill-color);\n",
              "      border-top-color: var(--fill-color);\n",
              "    }\n",
              "    60% {\n",
              "      border-color: transparent;\n",
              "      border-right-color: var(--fill-color);\n",
              "    }\n",
              "    80% {\n",
              "      border-color: transparent;\n",
              "      border-right-color: var(--fill-color);\n",
              "      border-bottom-color: var(--fill-color);\n",
              "    }\n",
              "    90% {\n",
              "      border-color: transparent;\n",
              "      border-bottom-color: var(--fill-color);\n",
              "    }\n",
              "  }\n",
              "</style>\n",
              "\n",
              "  <script>\n",
              "    async function quickchart(key) {\n",
              "      const quickchartButtonEl =\n",
              "        document.querySelector('#' + key + ' button');\n",
              "      quickchartButtonEl.disabled = true;  // To prevent multiple clicks.\n",
              "      quickchartButtonEl.classList.add('colab-df-spinner');\n",
              "      try {\n",
              "        const charts = await google.colab.kernel.invokeFunction(\n",
              "            'suggestCharts', [key], {});\n",
              "      } catch (error) {\n",
              "        console.error('Error during call to suggestCharts:', error);\n",
              "      }\n",
              "      quickchartButtonEl.classList.remove('colab-df-spinner');\n",
              "      quickchartButtonEl.classList.add('colab-df-quickchart-complete');\n",
              "    }\n",
              "    (() => {\n",
              "      let quickchartButtonEl =\n",
              "        document.querySelector('#df-ba27c460-b4b1-4dc8-9d51-ddae572cb204 button');\n",
              "      quickchartButtonEl.style.display =\n",
              "        google.colab.kernel.accessAllowed ? 'block' : 'none';\n",
              "    })();\n",
              "  </script>\n",
              "</div>\n",
              "\n",
              "    </div>\n",
              "  </div>\n"
            ],
            "application/vnd.google.colaboratory.intrinsic+json": {
              "type": "dataframe",
              "variable_name": "DF"
            }
          },
          "metadata": {},
          "execution_count": 16
        }
      ]
    },
    {
      "cell_type": "code",
      "source": [
        "DF.info()"
      ],
      "metadata": {
        "colab": {
          "base_uri": "https://localhost:8080/"
        },
        "id": "rpEEiS5FkcnV",
        "outputId": "dce40b81-3934-4277-b74c-dac5c3abad86"
      },
      "execution_count": 17,
      "outputs": [
        {
          "output_type": "stream",
          "name": "stdout",
          "text": [
            "<class 'pandas.core.frame.DataFrame'>\n",
            "Int64Index: 646151 entries, 0 to 858214\n",
            "Data columns (total 6 columns):\n",
            " #   Column               Non-Null Count   Dtype \n",
            "---  ------               --------------   ----- \n",
            " 0   category_small_desc  646151 non-null  object\n",
            " 1   item                 646151 non-null  object\n",
            " 2   color                646151 non-null  object\n",
            " 3   material             646151 non-null  object\n",
            " 4   sale_price           646151 non-null  int64 \n",
            " 5   recent_sale_count    646151 non-null  int64 \n",
            "dtypes: int64(2), object(4)\n",
            "memory usage: 34.5+ MB\n"
          ]
        }
      ]
    },
    {
      "cell_type": "code",
      "source": [
        "DF.isnull().sum(axis = 0)"
      ],
      "metadata": {
        "colab": {
          "base_uri": "https://localhost:8080/"
        },
        "id": "JhxJxfXwkfhy",
        "outputId": "f67285ac-df16-4053-c6d3-b69e9edb8489"
      },
      "execution_count": 18,
      "outputs": [
        {
          "output_type": "execute_result",
          "data": {
            "text/plain": [
              "category_small_desc    0\n",
              "item                   0\n",
              "color                  0\n",
              "material               0\n",
              "sale_price             0\n",
              "recent_sale_count      0\n",
              "dtype: int64"
            ]
          },
          "metadata": {},
          "execution_count": 18
        }
      ]
    },
    {
      "cell_type": "markdown",
      "source": [],
      "metadata": {
        "id": "5YwmkSnjstw1"
      }
    },
    {
      "cell_type": "markdown",
      "source": [
        "> ## 3) 판매된 물품만 추려내기"
      ],
      "metadata": {
        "id": "yZZ05r-LR9FE"
      }
    },
    {
      "cell_type": "code",
      "source": [
        "DF = DF[DF['recent_sale_count'] >= 1]"
      ],
      "metadata": {
        "id": "1veyyUhwSAza"
      },
      "execution_count": 19,
      "outputs": []
    },
    {
      "cell_type": "code",
      "source": [
        "DF.head()"
      ],
      "metadata": {
        "id": "S6LNdcO5U9N_",
        "outputId": "cba3d157-bffc-4c46-f9f3-45f5c13c5154",
        "colab": {
          "base_uri": "https://localhost:8080/",
          "height": 1000
        }
      },
      "execution_count": 20,
      "outputs": [
        {
          "output_type": "execute_result",
          "data": {
            "text/plain": [
              "   category_small_desc                                      item  \\\n",
              "4                 점프슈트                                      점프슈트   \n",
              "7                 점프슈트                         오버롤팬츠/점프수트/여름점프수트   \n",
              "19                점프슈트  스트링점프수트/반바지/반바지점프수트/점프수트/캐주얼점프수트/데일리점프수트   \n",
              "28                점프슈트              와이드점프수트/점프수트/뷔스티에점프수트/나시점프수트   \n",
              "40                점프슈트                  캐주얼데님팬츠/오버롤팬츠/오버롤데님/데님팬츠   \n",
              "\n",
              "                 color         material  sale_price  recent_sale_count  \n",
              "4   베이지/블랙/화이트/아이보리/카키        폴리에스터/나일론       28800                  1  \n",
              "7             라이트블루/차콜            텐셀/데님       29430                  1  \n",
              "19              베이지/블랙              나일론       28800                  2  \n",
              "28           퍼플/베이지/블랙  코튼/폴리에스터/쉬폰/나일론       15800                  1  \n",
              "40         블루/라이트블루/차콜               데님       42000                  1  "
            ],
            "text/html": [
              "\n",
              "  <div id=\"df-e3eb8dd7-4d9a-4c8a-9fe5-a5804d3710fb\" class=\"colab-df-container\">\n",
              "    <div>\n",
              "<style scoped>\n",
              "    .dataframe tbody tr th:only-of-type {\n",
              "        vertical-align: middle;\n",
              "    }\n",
              "\n",
              "    .dataframe tbody tr th {\n",
              "        vertical-align: top;\n",
              "    }\n",
              "\n",
              "    .dataframe thead th {\n",
              "        text-align: right;\n",
              "    }\n",
              "</style>\n",
              "<table border=\"1\" class=\"dataframe\">\n",
              "  <thead>\n",
              "    <tr style=\"text-align: right;\">\n",
              "      <th></th>\n",
              "      <th>category_small_desc</th>\n",
              "      <th>item</th>\n",
              "      <th>color</th>\n",
              "      <th>material</th>\n",
              "      <th>sale_price</th>\n",
              "      <th>recent_sale_count</th>\n",
              "    </tr>\n",
              "  </thead>\n",
              "  <tbody>\n",
              "    <tr>\n",
              "      <th>4</th>\n",
              "      <td>점프슈트</td>\n",
              "      <td>점프슈트</td>\n",
              "      <td>베이지/블랙/화이트/아이보리/카키</td>\n",
              "      <td>폴리에스터/나일론</td>\n",
              "      <td>28800</td>\n",
              "      <td>1</td>\n",
              "    </tr>\n",
              "    <tr>\n",
              "      <th>7</th>\n",
              "      <td>점프슈트</td>\n",
              "      <td>오버롤팬츠/점프수트/여름점프수트</td>\n",
              "      <td>라이트블루/차콜</td>\n",
              "      <td>텐셀/데님</td>\n",
              "      <td>29430</td>\n",
              "      <td>1</td>\n",
              "    </tr>\n",
              "    <tr>\n",
              "      <th>19</th>\n",
              "      <td>점프슈트</td>\n",
              "      <td>스트링점프수트/반바지/반바지점프수트/점프수트/캐주얼점프수트/데일리점프수트</td>\n",
              "      <td>베이지/블랙</td>\n",
              "      <td>나일론</td>\n",
              "      <td>28800</td>\n",
              "      <td>2</td>\n",
              "    </tr>\n",
              "    <tr>\n",
              "      <th>28</th>\n",
              "      <td>점프슈트</td>\n",
              "      <td>와이드점프수트/점프수트/뷔스티에점프수트/나시점프수트</td>\n",
              "      <td>퍼플/베이지/블랙</td>\n",
              "      <td>코튼/폴리에스터/쉬폰/나일론</td>\n",
              "      <td>15800</td>\n",
              "      <td>1</td>\n",
              "    </tr>\n",
              "    <tr>\n",
              "      <th>40</th>\n",
              "      <td>점프슈트</td>\n",
              "      <td>캐주얼데님팬츠/오버롤팬츠/오버롤데님/데님팬츠</td>\n",
              "      <td>블루/라이트블루/차콜</td>\n",
              "      <td>데님</td>\n",
              "      <td>42000</td>\n",
              "      <td>1</td>\n",
              "    </tr>\n",
              "  </tbody>\n",
              "</table>\n",
              "</div>\n",
              "    <div class=\"colab-df-buttons\">\n",
              "\n",
              "  <div class=\"colab-df-container\">\n",
              "    <button class=\"colab-df-convert\" onclick=\"convertToInteractive('df-e3eb8dd7-4d9a-4c8a-9fe5-a5804d3710fb')\"\n",
              "            title=\"Convert this dataframe to an interactive table.\"\n",
              "            style=\"display:none;\">\n",
              "\n",
              "  <svg xmlns=\"http://www.w3.org/2000/svg\" height=\"24px\" viewBox=\"0 -960 960 960\">\n",
              "    <path d=\"M120-120v-720h720v720H120Zm60-500h600v-160H180v160Zm220 220h160v-160H400v160Zm0 220h160v-160H400v160ZM180-400h160v-160H180v160Zm440 0h160v-160H620v160ZM180-180h160v-160H180v160Zm440 0h160v-160H620v160Z\"/>\n",
              "  </svg>\n",
              "    </button>\n",
              "\n",
              "  <style>\n",
              "    .colab-df-container {\n",
              "      display:flex;\n",
              "      gap: 12px;\n",
              "    }\n",
              "\n",
              "    .colab-df-convert {\n",
              "      background-color: #E8F0FE;\n",
              "      border: none;\n",
              "      border-radius: 50%;\n",
              "      cursor: pointer;\n",
              "      display: none;\n",
              "      fill: #1967D2;\n",
              "      height: 32px;\n",
              "      padding: 0 0 0 0;\n",
              "      width: 32px;\n",
              "    }\n",
              "\n",
              "    .colab-df-convert:hover {\n",
              "      background-color: #E2EBFA;\n",
              "      box-shadow: 0px 1px 2px rgba(60, 64, 67, 0.3), 0px 1px 3px 1px rgba(60, 64, 67, 0.15);\n",
              "      fill: #174EA6;\n",
              "    }\n",
              "\n",
              "    .colab-df-buttons div {\n",
              "      margin-bottom: 4px;\n",
              "    }\n",
              "\n",
              "    [theme=dark] .colab-df-convert {\n",
              "      background-color: #3B4455;\n",
              "      fill: #D2E3FC;\n",
              "    }\n",
              "\n",
              "    [theme=dark] .colab-df-convert:hover {\n",
              "      background-color: #434B5C;\n",
              "      box-shadow: 0px 1px 3px 1px rgba(0, 0, 0, 0.15);\n",
              "      filter: drop-shadow(0px 1px 2px rgba(0, 0, 0, 0.3));\n",
              "      fill: #FFFFFF;\n",
              "    }\n",
              "  </style>\n",
              "\n",
              "    <script>\n",
              "      const buttonEl =\n",
              "        document.querySelector('#df-e3eb8dd7-4d9a-4c8a-9fe5-a5804d3710fb button.colab-df-convert');\n",
              "      buttonEl.style.display =\n",
              "        google.colab.kernel.accessAllowed ? 'block' : 'none';\n",
              "\n",
              "      async function convertToInteractive(key) {\n",
              "        const element = document.querySelector('#df-e3eb8dd7-4d9a-4c8a-9fe5-a5804d3710fb');\n",
              "        const dataTable =\n",
              "          await google.colab.kernel.invokeFunction('convertToInteractive',\n",
              "                                                    [key], {});\n",
              "        if (!dataTable) return;\n",
              "\n",
              "        const docLinkHtml = 'Like what you see? Visit the ' +\n",
              "          '<a target=\"_blank\" href=https://colab.research.google.com/notebooks/data_table.ipynb>data table notebook</a>'\n",
              "          + ' to learn more about interactive tables.';\n",
              "        element.innerHTML = '';\n",
              "        dataTable['output_type'] = 'display_data';\n",
              "        await google.colab.output.renderOutput(dataTable, element);\n",
              "        const docLink = document.createElement('div');\n",
              "        docLink.innerHTML = docLinkHtml;\n",
              "        element.appendChild(docLink);\n",
              "      }\n",
              "    </script>\n",
              "  </div>\n",
              "\n",
              "\n",
              "<div id=\"df-a63ceb95-a418-4482-9766-930248eeecd0\">\n",
              "  <button class=\"colab-df-quickchart\" onclick=\"quickchart('df-a63ceb95-a418-4482-9766-930248eeecd0')\"\n",
              "            title=\"Suggest charts\"\n",
              "            style=\"display:none;\">\n",
              "\n",
              "<svg xmlns=\"http://www.w3.org/2000/svg\" height=\"24px\"viewBox=\"0 0 24 24\"\n",
              "     width=\"24px\">\n",
              "    <g>\n",
              "        <path d=\"M19 3H5c-1.1 0-2 .9-2 2v14c0 1.1.9 2 2 2h14c1.1 0 2-.9 2-2V5c0-1.1-.9-2-2-2zM9 17H7v-7h2v7zm4 0h-2V7h2v10zm4 0h-2v-4h2v4z\"/>\n",
              "    </g>\n",
              "</svg>\n",
              "  </button>\n",
              "\n",
              "<style>\n",
              "  .colab-df-quickchart {\n",
              "      --bg-color: #E8F0FE;\n",
              "      --fill-color: #1967D2;\n",
              "      --hover-bg-color: #E2EBFA;\n",
              "      --hover-fill-color: #174EA6;\n",
              "      --disabled-fill-color: #AAA;\n",
              "      --disabled-bg-color: #DDD;\n",
              "  }\n",
              "\n",
              "  [theme=dark] .colab-df-quickchart {\n",
              "      --bg-color: #3B4455;\n",
              "      --fill-color: #D2E3FC;\n",
              "      --hover-bg-color: #434B5C;\n",
              "      --hover-fill-color: #FFFFFF;\n",
              "      --disabled-bg-color: #3B4455;\n",
              "      --disabled-fill-color: #666;\n",
              "  }\n",
              "\n",
              "  .colab-df-quickchart {\n",
              "    background-color: var(--bg-color);\n",
              "    border: none;\n",
              "    border-radius: 50%;\n",
              "    cursor: pointer;\n",
              "    display: none;\n",
              "    fill: var(--fill-color);\n",
              "    height: 32px;\n",
              "    padding: 0;\n",
              "    width: 32px;\n",
              "  }\n",
              "\n",
              "  .colab-df-quickchart:hover {\n",
              "    background-color: var(--hover-bg-color);\n",
              "    box-shadow: 0 1px 2px rgba(60, 64, 67, 0.3), 0 1px 3px 1px rgba(60, 64, 67, 0.15);\n",
              "    fill: var(--button-hover-fill-color);\n",
              "  }\n",
              "\n",
              "  .colab-df-quickchart-complete:disabled,\n",
              "  .colab-df-quickchart-complete:disabled:hover {\n",
              "    background-color: var(--disabled-bg-color);\n",
              "    fill: var(--disabled-fill-color);\n",
              "    box-shadow: none;\n",
              "  }\n",
              "\n",
              "  .colab-df-spinner {\n",
              "    border: 2px solid var(--fill-color);\n",
              "    border-color: transparent;\n",
              "    border-bottom-color: var(--fill-color);\n",
              "    animation:\n",
              "      spin 1s steps(1) infinite;\n",
              "  }\n",
              "\n",
              "  @keyframes spin {\n",
              "    0% {\n",
              "      border-color: transparent;\n",
              "      border-bottom-color: var(--fill-color);\n",
              "      border-left-color: var(--fill-color);\n",
              "    }\n",
              "    20% {\n",
              "      border-color: transparent;\n",
              "      border-left-color: var(--fill-color);\n",
              "      border-top-color: var(--fill-color);\n",
              "    }\n",
              "    30% {\n",
              "      border-color: transparent;\n",
              "      border-left-color: var(--fill-color);\n",
              "      border-top-color: var(--fill-color);\n",
              "      border-right-color: var(--fill-color);\n",
              "    }\n",
              "    40% {\n",
              "      border-color: transparent;\n",
              "      border-right-color: var(--fill-color);\n",
              "      border-top-color: var(--fill-color);\n",
              "    }\n",
              "    60% {\n",
              "      border-color: transparent;\n",
              "      border-right-color: var(--fill-color);\n",
              "    }\n",
              "    80% {\n",
              "      border-color: transparent;\n",
              "      border-right-color: var(--fill-color);\n",
              "      border-bottom-color: var(--fill-color);\n",
              "    }\n",
              "    90% {\n",
              "      border-color: transparent;\n",
              "      border-bottom-color: var(--fill-color);\n",
              "    }\n",
              "  }\n",
              "</style>\n",
              "\n",
              "  <script>\n",
              "    async function quickchart(key) {\n",
              "      const quickchartButtonEl =\n",
              "        document.querySelector('#' + key + ' button');\n",
              "      quickchartButtonEl.disabled = true;  // To prevent multiple clicks.\n",
              "      quickchartButtonEl.classList.add('colab-df-spinner');\n",
              "      try {\n",
              "        const charts = await google.colab.kernel.invokeFunction(\n",
              "            'suggestCharts', [key], {});\n",
              "      } catch (error) {\n",
              "        console.error('Error during call to suggestCharts:', error);\n",
              "      }\n",
              "      quickchartButtonEl.classList.remove('colab-df-spinner');\n",
              "      quickchartButtonEl.classList.add('colab-df-quickchart-complete');\n",
              "    }\n",
              "    (() => {\n",
              "      let quickchartButtonEl =\n",
              "        document.querySelector('#df-a63ceb95-a418-4482-9766-930248eeecd0 button');\n",
              "      quickchartButtonEl.style.display =\n",
              "        google.colab.kernel.accessAllowed ? 'block' : 'none';\n",
              "    })();\n",
              "  </script>\n",
              "</div>\n",
              "\n",
              "    </div>\n",
              "  </div>\n"
            ],
            "application/vnd.google.colaboratory.intrinsic+json": {
              "type": "dataframe",
              "variable_name": "DF",
              "summary": "{\n  \"name\": \"DF\",\n  \"rows\": 11970,\n  \"fields\": [\n    {\n      \"column\": \"category_small_desc\",\n      \"properties\": {\n        \"dtype\": \"category\",\n        \"num_unique_values\": 34,\n        \"samples\": [\n          \"\\ucf54\\ub4c0\\ub85c\\uc774\\ud32c\\uce20\",\n          \"\\uc790\\ucf13\",\n          \"\\ud50c\\ub9ac\\uce20\\uc2a4\\ucee4\\ud2b8\"\n        ],\n        \"semantic_type\": \"\",\n        \"description\": \"\"\n      }\n    },\n    {\n      \"column\": \"item\",\n      \"properties\": {\n        \"dtype\": \"string\",\n        \"num_unique_values\": 8305,\n        \"samples\": [\n          \"\\ubca0\\uc774\\uc2dd\\ud2f0\\uc154\\uce20/\\ub098\\uc2dc\\ud2f0\\uc154\\uce20/\\uc5b4\\uae68\\ub048\\ud0d1/\\ub808\\uc774\\uc5b4\\ub4dc\\ud0d1/\\ubca0\\uc774\\uc2dd\\ub098\\uc2dc/\\ub7a9\\ud2f0\\uc154\\uce20\",\n          \"\\uce7c\\ub77c\\ucf54\\ud2b8/\\ud2b8\\ub80c\\uce58\\uc7ac\\ud0b7/\\ud2b8\\ub80c\\uce58\\ucf54\\ud2b8/\\ub8e8\\uc988\\ud54f\\ud2b8\\ub80c\\uce58\\ucf54\\ud2b8/\\ucf54\\ud2bc\\uc7ac\\ud0b7/\\ubca8\\ud2b8\\ud2b8\\ub80c\\uce58\\ucf54\\ud2b8/\\ub871\\ud2b8\\ub80c\\uce58\\ucf54\\ud2b8\",\n          \"\\uc2a4\\ud2b8\\ub77c\\uc774\\ud504\\ube14\\ub77c\\uc6b0\\uc2a4/\\ub7ec\\ud50c\\ube14\\ub77c\\uc6b0\\uc2a4/\\ubc18\\ud314\\ube14\\ub77c\\uc6b0\\uc2a4/\\ud504\\ub9b4\\ube14\\ub77c\\uc6b0\\uc2a4/\\uc138\\uc77c\\ub7ec\\ube14\\ub77c\\uc6b0\\uc2a4/\\uc5ec\\ub984\\ube14\\ub77c\\uc6b0\\uc2a4/\\uce7c\\ub77c\\ube14\\ub77c\\uc6b0\\uc2a4/\\ube45\\uce7c\\ub77c\\ube14\\ub77c\\uc6b0\\uc2a4\"\n        ],\n        \"semantic_type\": \"\",\n        \"description\": \"\"\n      }\n    },\n    {\n      \"column\": \"color\",\n      \"properties\": {\n        \"dtype\": \"category\",\n        \"num_unique_values\": 2944,\n        \"samples\": [\n          \"\\ub124\\uc774\\ube44/\\ud551\\ud06c/\\uadf8\\ub9b0/\\ube14\\ub799/\\uadf8\\ub808\\uc774\",\n          \"\\ubca0\\uc774\\uc9c0/\\uce74\\ud0a4/\\ube14\\ub799/\\uace8\\ub4dc\",\n          \"\\ud37c\\ud50c/\\ube14\\ub8e8/\\uc544\\uc774\\ubcf4\\ub9ac/\\ud654\\uc774\\ud2b8\"\n        ],\n        \"semantic_type\": \"\",\n        \"description\": \"\"\n      }\n    },\n    {\n      \"column\": \"material\",\n      \"properties\": {\n        \"dtype\": \"category\",\n        \"num_unique_values\": 285,\n        \"samples\": [\n          \"\\ud3f4\\ub9ac\\uc5d0\\uc2a4\\ud130/\\uc2a4\\ud310\",\n          \"\\uc2e4\\ud06c/\\ub808\\uc774\\uc628/\\uc2a4\\ud310/\\ub098\\uc77c\\ub860\",\n          \"\\ub808\\ub354/\\ud3f4\\ub9ac\\uc5d0\\uc2a4\\ud130\"\n        ],\n        \"semantic_type\": \"\",\n        \"description\": \"\"\n      }\n    },\n    {\n      \"column\": \"sale_price\",\n      \"properties\": {\n        \"dtype\": \"number\",\n        \"std\": 27019,\n        \"min\": 3000,\n        \"max\": 935000,\n        \"num_unique_values\": 1368,\n        \"samples\": [\n          32400,\n          47610,\n          29100\n        ],\n        \"semantic_type\": \"\",\n        \"description\": \"\"\n      }\n    },\n    {\n      \"column\": \"recent_sale_count\",\n      \"properties\": {\n        \"dtype\": \"number\",\n        \"std\": 7,\n        \"min\": 1,\n        \"max\": 389,\n        \"num_unique_values\": 83,\n        \"samples\": [\n          29,\n          1,\n          13\n        ],\n        \"semantic_type\": \"\",\n        \"description\": \"\"\n      }\n    }\n  ]\n}"
            }
          },
          "metadata": {},
          "execution_count": 20
        }
      ]
    },
    {
      "cell_type": "code",
      "source": [
        "DF.info()"
      ],
      "metadata": {
        "colab": {
          "base_uri": "https://localhost:8080/"
        },
        "id": "FyA-3AuXkkfT",
        "outputId": "aeee4bba-5304-4800-af44-cbdea8e6dc99"
      },
      "execution_count": 21,
      "outputs": [
        {
          "output_type": "stream",
          "name": "stdout",
          "text": [
            "<class 'pandas.core.frame.DataFrame'>\n",
            "Int64Index: 11970 entries, 4 to 858193\n",
            "Data columns (total 6 columns):\n",
            " #   Column               Non-Null Count  Dtype \n",
            "---  ------               --------------  ----- \n",
            " 0   category_small_desc  11970 non-null  object\n",
            " 1   item                 11970 non-null  object\n",
            " 2   color                11970 non-null  object\n",
            " 3   material             11970 non-null  object\n",
            " 4   sale_price           11970 non-null  int64 \n",
            " 5   recent_sale_count    11970 non-null  int64 \n",
            "dtypes: int64(2), object(4)\n",
            "memory usage: 654.6+ KB\n"
          ]
        }
      ]
    },
    {
      "cell_type": "markdown",
      "source": [
        "> ## 4) 앞 열에 시계열 데이터 추가"
      ],
      "metadata": {
        "id": "U2snIbiPs48S"
      }
    },
    {
      "cell_type": "code",
      "source": [
        "DF.insert(0, 'Time', '2023_02_15')\n",
        "\n",
        "DF.head()"
      ],
      "metadata": {
        "colab": {
          "base_uri": "https://localhost:8080/",
          "height": 1000
        },
        "id": "550evwCJs9FN",
        "outputId": "f6a94c77-4858-4e4f-8a9e-983fae84b3f2"
      },
      "execution_count": 22,
      "outputs": [
        {
          "output_type": "execute_result",
          "data": {
            "text/plain": [
              "          Time category_small_desc                                      item  \\\n",
              "4   2023_02_15                점프슈트                                      점프슈트   \n",
              "7   2023_02_15                점프슈트                         오버롤팬츠/점프수트/여름점프수트   \n",
              "19  2023_02_15                점프슈트  스트링점프수트/반바지/반바지점프수트/점프수트/캐주얼점프수트/데일리점프수트   \n",
              "28  2023_02_15                점프슈트              와이드점프수트/점프수트/뷔스티에점프수트/나시점프수트   \n",
              "40  2023_02_15                점프슈트                  캐주얼데님팬츠/오버롤팬츠/오버롤데님/데님팬츠   \n",
              "\n",
              "                 color         material  sale_price  recent_sale_count  \n",
              "4   베이지/블랙/화이트/아이보리/카키        폴리에스터/나일론       28800                  1  \n",
              "7             라이트블루/차콜            텐셀/데님       29430                  1  \n",
              "19              베이지/블랙              나일론       28800                  2  \n",
              "28           퍼플/베이지/블랙  코튼/폴리에스터/쉬폰/나일론       15800                  1  \n",
              "40         블루/라이트블루/차콜               데님       42000                  1  "
            ],
            "text/html": [
              "\n",
              "  <div id=\"df-72856aea-b050-4da8-83f3-986168beef36\" class=\"colab-df-container\">\n",
              "    <div>\n",
              "<style scoped>\n",
              "    .dataframe tbody tr th:only-of-type {\n",
              "        vertical-align: middle;\n",
              "    }\n",
              "\n",
              "    .dataframe tbody tr th {\n",
              "        vertical-align: top;\n",
              "    }\n",
              "\n",
              "    .dataframe thead th {\n",
              "        text-align: right;\n",
              "    }\n",
              "</style>\n",
              "<table border=\"1\" class=\"dataframe\">\n",
              "  <thead>\n",
              "    <tr style=\"text-align: right;\">\n",
              "      <th></th>\n",
              "      <th>Time</th>\n",
              "      <th>category_small_desc</th>\n",
              "      <th>item</th>\n",
              "      <th>color</th>\n",
              "      <th>material</th>\n",
              "      <th>sale_price</th>\n",
              "      <th>recent_sale_count</th>\n",
              "    </tr>\n",
              "  </thead>\n",
              "  <tbody>\n",
              "    <tr>\n",
              "      <th>4</th>\n",
              "      <td>2023_02_15</td>\n",
              "      <td>점프슈트</td>\n",
              "      <td>점프슈트</td>\n",
              "      <td>베이지/블랙/화이트/아이보리/카키</td>\n",
              "      <td>폴리에스터/나일론</td>\n",
              "      <td>28800</td>\n",
              "      <td>1</td>\n",
              "    </tr>\n",
              "    <tr>\n",
              "      <th>7</th>\n",
              "      <td>2023_02_15</td>\n",
              "      <td>점프슈트</td>\n",
              "      <td>오버롤팬츠/점프수트/여름점프수트</td>\n",
              "      <td>라이트블루/차콜</td>\n",
              "      <td>텐셀/데님</td>\n",
              "      <td>29430</td>\n",
              "      <td>1</td>\n",
              "    </tr>\n",
              "    <tr>\n",
              "      <th>19</th>\n",
              "      <td>2023_02_15</td>\n",
              "      <td>점프슈트</td>\n",
              "      <td>스트링점프수트/반바지/반바지점프수트/점프수트/캐주얼점프수트/데일리점프수트</td>\n",
              "      <td>베이지/블랙</td>\n",
              "      <td>나일론</td>\n",
              "      <td>28800</td>\n",
              "      <td>2</td>\n",
              "    </tr>\n",
              "    <tr>\n",
              "      <th>28</th>\n",
              "      <td>2023_02_15</td>\n",
              "      <td>점프슈트</td>\n",
              "      <td>와이드점프수트/점프수트/뷔스티에점프수트/나시점프수트</td>\n",
              "      <td>퍼플/베이지/블랙</td>\n",
              "      <td>코튼/폴리에스터/쉬폰/나일론</td>\n",
              "      <td>15800</td>\n",
              "      <td>1</td>\n",
              "    </tr>\n",
              "    <tr>\n",
              "      <th>40</th>\n",
              "      <td>2023_02_15</td>\n",
              "      <td>점프슈트</td>\n",
              "      <td>캐주얼데님팬츠/오버롤팬츠/오버롤데님/데님팬츠</td>\n",
              "      <td>블루/라이트블루/차콜</td>\n",
              "      <td>데님</td>\n",
              "      <td>42000</td>\n",
              "      <td>1</td>\n",
              "    </tr>\n",
              "  </tbody>\n",
              "</table>\n",
              "</div>\n",
              "    <div class=\"colab-df-buttons\">\n",
              "\n",
              "  <div class=\"colab-df-container\">\n",
              "    <button class=\"colab-df-convert\" onclick=\"convertToInteractive('df-72856aea-b050-4da8-83f3-986168beef36')\"\n",
              "            title=\"Convert this dataframe to an interactive table.\"\n",
              "            style=\"display:none;\">\n",
              "\n",
              "  <svg xmlns=\"http://www.w3.org/2000/svg\" height=\"24px\" viewBox=\"0 -960 960 960\">\n",
              "    <path d=\"M120-120v-720h720v720H120Zm60-500h600v-160H180v160Zm220 220h160v-160H400v160Zm0 220h160v-160H400v160ZM180-400h160v-160H180v160Zm440 0h160v-160H620v160ZM180-180h160v-160H180v160Zm440 0h160v-160H620v160Z\"/>\n",
              "  </svg>\n",
              "    </button>\n",
              "\n",
              "  <style>\n",
              "    .colab-df-container {\n",
              "      display:flex;\n",
              "      gap: 12px;\n",
              "    }\n",
              "\n",
              "    .colab-df-convert {\n",
              "      background-color: #E8F0FE;\n",
              "      border: none;\n",
              "      border-radius: 50%;\n",
              "      cursor: pointer;\n",
              "      display: none;\n",
              "      fill: #1967D2;\n",
              "      height: 32px;\n",
              "      padding: 0 0 0 0;\n",
              "      width: 32px;\n",
              "    }\n",
              "\n",
              "    .colab-df-convert:hover {\n",
              "      background-color: #E2EBFA;\n",
              "      box-shadow: 0px 1px 2px rgba(60, 64, 67, 0.3), 0px 1px 3px 1px rgba(60, 64, 67, 0.15);\n",
              "      fill: #174EA6;\n",
              "    }\n",
              "\n",
              "    .colab-df-buttons div {\n",
              "      margin-bottom: 4px;\n",
              "    }\n",
              "\n",
              "    [theme=dark] .colab-df-convert {\n",
              "      background-color: #3B4455;\n",
              "      fill: #D2E3FC;\n",
              "    }\n",
              "\n",
              "    [theme=dark] .colab-df-convert:hover {\n",
              "      background-color: #434B5C;\n",
              "      box-shadow: 0px 1px 3px 1px rgba(0, 0, 0, 0.15);\n",
              "      filter: drop-shadow(0px 1px 2px rgba(0, 0, 0, 0.3));\n",
              "      fill: #FFFFFF;\n",
              "    }\n",
              "  </style>\n",
              "\n",
              "    <script>\n",
              "      const buttonEl =\n",
              "        document.querySelector('#df-72856aea-b050-4da8-83f3-986168beef36 button.colab-df-convert');\n",
              "      buttonEl.style.display =\n",
              "        google.colab.kernel.accessAllowed ? 'block' : 'none';\n",
              "\n",
              "      async function convertToInteractive(key) {\n",
              "        const element = document.querySelector('#df-72856aea-b050-4da8-83f3-986168beef36');\n",
              "        const dataTable =\n",
              "          await google.colab.kernel.invokeFunction('convertToInteractive',\n",
              "                                                    [key], {});\n",
              "        if (!dataTable) return;\n",
              "\n",
              "        const docLinkHtml = 'Like what you see? Visit the ' +\n",
              "          '<a target=\"_blank\" href=https://colab.research.google.com/notebooks/data_table.ipynb>data table notebook</a>'\n",
              "          + ' to learn more about interactive tables.';\n",
              "        element.innerHTML = '';\n",
              "        dataTable['output_type'] = 'display_data';\n",
              "        await google.colab.output.renderOutput(dataTable, element);\n",
              "        const docLink = document.createElement('div');\n",
              "        docLink.innerHTML = docLinkHtml;\n",
              "        element.appendChild(docLink);\n",
              "      }\n",
              "    </script>\n",
              "  </div>\n",
              "\n",
              "\n",
              "<div id=\"df-89500d10-2452-4f1e-a450-da16af4073aa\">\n",
              "  <button class=\"colab-df-quickchart\" onclick=\"quickchart('df-89500d10-2452-4f1e-a450-da16af4073aa')\"\n",
              "            title=\"Suggest charts\"\n",
              "            style=\"display:none;\">\n",
              "\n",
              "<svg xmlns=\"http://www.w3.org/2000/svg\" height=\"24px\"viewBox=\"0 0 24 24\"\n",
              "     width=\"24px\">\n",
              "    <g>\n",
              "        <path d=\"M19 3H5c-1.1 0-2 .9-2 2v14c0 1.1.9 2 2 2h14c1.1 0 2-.9 2-2V5c0-1.1-.9-2-2-2zM9 17H7v-7h2v7zm4 0h-2V7h2v10zm4 0h-2v-4h2v4z\"/>\n",
              "    </g>\n",
              "</svg>\n",
              "  </button>\n",
              "\n",
              "<style>\n",
              "  .colab-df-quickchart {\n",
              "      --bg-color: #E8F0FE;\n",
              "      --fill-color: #1967D2;\n",
              "      --hover-bg-color: #E2EBFA;\n",
              "      --hover-fill-color: #174EA6;\n",
              "      --disabled-fill-color: #AAA;\n",
              "      --disabled-bg-color: #DDD;\n",
              "  }\n",
              "\n",
              "  [theme=dark] .colab-df-quickchart {\n",
              "      --bg-color: #3B4455;\n",
              "      --fill-color: #D2E3FC;\n",
              "      --hover-bg-color: #434B5C;\n",
              "      --hover-fill-color: #FFFFFF;\n",
              "      --disabled-bg-color: #3B4455;\n",
              "      --disabled-fill-color: #666;\n",
              "  }\n",
              "\n",
              "  .colab-df-quickchart {\n",
              "    background-color: var(--bg-color);\n",
              "    border: none;\n",
              "    border-radius: 50%;\n",
              "    cursor: pointer;\n",
              "    display: none;\n",
              "    fill: var(--fill-color);\n",
              "    height: 32px;\n",
              "    padding: 0;\n",
              "    width: 32px;\n",
              "  }\n",
              "\n",
              "  .colab-df-quickchart:hover {\n",
              "    background-color: var(--hover-bg-color);\n",
              "    box-shadow: 0 1px 2px rgba(60, 64, 67, 0.3), 0 1px 3px 1px rgba(60, 64, 67, 0.15);\n",
              "    fill: var(--button-hover-fill-color);\n",
              "  }\n",
              "\n",
              "  .colab-df-quickchart-complete:disabled,\n",
              "  .colab-df-quickchart-complete:disabled:hover {\n",
              "    background-color: var(--disabled-bg-color);\n",
              "    fill: var(--disabled-fill-color);\n",
              "    box-shadow: none;\n",
              "  }\n",
              "\n",
              "  .colab-df-spinner {\n",
              "    border: 2px solid var(--fill-color);\n",
              "    border-color: transparent;\n",
              "    border-bottom-color: var(--fill-color);\n",
              "    animation:\n",
              "      spin 1s steps(1) infinite;\n",
              "  }\n",
              "\n",
              "  @keyframes spin {\n",
              "    0% {\n",
              "      border-color: transparent;\n",
              "      border-bottom-color: var(--fill-color);\n",
              "      border-left-color: var(--fill-color);\n",
              "    }\n",
              "    20% {\n",
              "      border-color: transparent;\n",
              "      border-left-color: var(--fill-color);\n",
              "      border-top-color: var(--fill-color);\n",
              "    }\n",
              "    30% {\n",
              "      border-color: transparent;\n",
              "      border-left-color: var(--fill-color);\n",
              "      border-top-color: var(--fill-color);\n",
              "      border-right-color: var(--fill-color);\n",
              "    }\n",
              "    40% {\n",
              "      border-color: transparent;\n",
              "      border-right-color: var(--fill-color);\n",
              "      border-top-color: var(--fill-color);\n",
              "    }\n",
              "    60% {\n",
              "      border-color: transparent;\n",
              "      border-right-color: var(--fill-color);\n",
              "    }\n",
              "    80% {\n",
              "      border-color: transparent;\n",
              "      border-right-color: var(--fill-color);\n",
              "      border-bottom-color: var(--fill-color);\n",
              "    }\n",
              "    90% {\n",
              "      border-color: transparent;\n",
              "      border-bottom-color: var(--fill-color);\n",
              "    }\n",
              "  }\n",
              "</style>\n",
              "\n",
              "  <script>\n",
              "    async function quickchart(key) {\n",
              "      const quickchartButtonEl =\n",
              "        document.querySelector('#' + key + ' button');\n",
              "      quickchartButtonEl.disabled = true;  // To prevent multiple clicks.\n",
              "      quickchartButtonEl.classList.add('colab-df-spinner');\n",
              "      try {\n",
              "        const charts = await google.colab.kernel.invokeFunction(\n",
              "            'suggestCharts', [key], {});\n",
              "      } catch (error) {\n",
              "        console.error('Error during call to suggestCharts:', error);\n",
              "      }\n",
              "      quickchartButtonEl.classList.remove('colab-df-spinner');\n",
              "      quickchartButtonEl.classList.add('colab-df-quickchart-complete');\n",
              "    }\n",
              "    (() => {\n",
              "      let quickchartButtonEl =\n",
              "        document.querySelector('#df-89500d10-2452-4f1e-a450-da16af4073aa button');\n",
              "      quickchartButtonEl.style.display =\n",
              "        google.colab.kernel.accessAllowed ? 'block' : 'none';\n",
              "    })();\n",
              "  </script>\n",
              "</div>\n",
              "\n",
              "    </div>\n",
              "  </div>\n"
            ],
            "application/vnd.google.colaboratory.intrinsic+json": {
              "type": "dataframe",
              "variable_name": "DF",
              "summary": "{\n  \"name\": \"DF\",\n  \"rows\": 11970,\n  \"fields\": [\n    {\n      \"column\": \"Time\",\n      \"properties\": {\n        \"dtype\": \"category\",\n        \"num_unique_values\": 1,\n        \"samples\": [\n          \"2023_02_15\"\n        ],\n        \"semantic_type\": \"\",\n        \"description\": \"\"\n      }\n    },\n    {\n      \"column\": \"category_small_desc\",\n      \"properties\": {\n        \"dtype\": \"category\",\n        \"num_unique_values\": 34,\n        \"samples\": [\n          \"\\ucf54\\ub4c0\\ub85c\\uc774\\ud32c\\uce20\"\n        ],\n        \"semantic_type\": \"\",\n        \"description\": \"\"\n      }\n    },\n    {\n      \"column\": \"item\",\n      \"properties\": {\n        \"dtype\": \"string\",\n        \"num_unique_values\": 8305,\n        \"samples\": [\n          \"\\ubca0\\uc774\\uc2dd\\ud2f0\\uc154\\uce20/\\ub098\\uc2dc\\ud2f0\\uc154\\uce20/\\uc5b4\\uae68\\ub048\\ud0d1/\\ub808\\uc774\\uc5b4\\ub4dc\\ud0d1/\\ubca0\\uc774\\uc2dd\\ub098\\uc2dc/\\ub7a9\\ud2f0\\uc154\\uce20\"\n        ],\n        \"semantic_type\": \"\",\n        \"description\": \"\"\n      }\n    },\n    {\n      \"column\": \"color\",\n      \"properties\": {\n        \"dtype\": \"category\",\n        \"num_unique_values\": 2944,\n        \"samples\": [\n          \"\\ub124\\uc774\\ube44/\\ud551\\ud06c/\\uadf8\\ub9b0/\\ube14\\ub799/\\uadf8\\ub808\\uc774\"\n        ],\n        \"semantic_type\": \"\",\n        \"description\": \"\"\n      }\n    },\n    {\n      \"column\": \"material\",\n      \"properties\": {\n        \"dtype\": \"category\",\n        \"num_unique_values\": 285,\n        \"samples\": [\n          \"\\ud3f4\\ub9ac\\uc5d0\\uc2a4\\ud130/\\uc2a4\\ud310\"\n        ],\n        \"semantic_type\": \"\",\n        \"description\": \"\"\n      }\n    },\n    {\n      \"column\": \"sale_price\",\n      \"properties\": {\n        \"dtype\": \"number\",\n        \"std\": 27019,\n        \"min\": 3000,\n        \"max\": 935000,\n        \"num_unique_values\": 1368,\n        \"samples\": [\n          32400\n        ],\n        \"semantic_type\": \"\",\n        \"description\": \"\"\n      }\n    },\n    {\n      \"column\": \"recent_sale_count\",\n      \"properties\": {\n        \"dtype\": \"number\",\n        \"std\": 7,\n        \"min\": 1,\n        \"max\": 389,\n        \"num_unique_values\": 83,\n        \"samples\": [\n          29\n        ],\n        \"semantic_type\": \"\",\n        \"description\": \"\"\n      }\n    }\n  ]\n}"
            }
          },
          "metadata": {},
          "execution_count": 22
        }
      ]
    },
    {
      "cell_type": "markdown",
      "source": [
        "# 정규표현식"
      ],
      "metadata": {
        "id": "lZLeUSulP0Aq"
      }
    },
    {
      "cell_type": "markdown",
      "source": [
        "> ## 1) 용품 구분"
      ],
      "metadata": {
        "id": "CJIN8NDIP4zO"
      }
    },
    {
      "cell_type": "code",
      "source": [
        "DF['item'].value_counts()"
      ],
      "metadata": {
        "colab": {
          "base_uri": "https://localhost:8080/"
        },
        "id": "fsyxTbnKPztN",
        "outputId": "72200b20-d69a-42ff-e558-4fff336d8fc9"
      },
      "execution_count": 23,
      "outputs": [
        {
          "output_type": "execute_result",
          "data": {
            "text/plain": [
              "티셔츠                                                         362\n",
              "니트                                                          253\n",
              "블라우스/셔츠                                                     249\n",
              "롱원피스                                                        202\n",
              "카디건                                                         179\n",
              "                                                           ... \n",
              "겨울카디건/박시카디건/벌룬카디건/퍼카디건/오피스룩카디건/울카디건/간절기카디건/오버핏카디건/루즈핏카디건      1\n",
              "가을카디건/롱카디건/니트카디건/로브카디건                                        1\n",
              "바캉스룩카디건/빈티지카디건/로브카디건                                          1\n",
              "긴팔가디건/꽈배기니트카디건/니트카디건/셔링카디건/베이식카디건                             1\n",
              "플리츠스커트/A라인스커트/봄스커트/테니스스커트/미니스커트                               1\n",
              "Name: item, Length: 8305, dtype: int64"
            ]
          },
          "metadata": {},
          "execution_count": 23
        }
      ]
    },
    {
      "cell_type": "code",
      "source": [
        "item = DF['item'].unique().tolist()"
      ],
      "metadata": {
        "id": "c3GlREdBQKW8"
      },
      "execution_count": 24,
      "outputs": []
    },
    {
      "cell_type": "code",
      "source": [
        "item = str(item)"
      ],
      "metadata": {
        "id": "9uHz7fOkQRm1"
      },
      "execution_count": 25,
      "outputs": []
    },
    {
      "cell_type": "code",
      "source": [
        "item[:1000]"
      ],
      "metadata": {
        "colab": {
          "base_uri": "https://localhost:8080/",
          "height": 365
        },
        "id": "-sFVmVMCQTf9",
        "outputId": "4af9d480-f114-4218-bb0d-58cd2f8be69c"
      },
      "execution_count": 26,
      "outputs": [
        {
          "output_type": "execute_result",
          "data": {
            "text/plain": [
              "\"['점프슈트', '오버롤팬츠/점프수트/여름점프수트', '스트링점프수트/반바지/반바지점프수트/점프수트/캐주얼점프수트/데일리점프수트', '와이드점프수트/점프수트/뷔스티에점프수트/나시점프수트', '캐주얼데님팬츠/오버롤팬츠/오버롤데님/데님팬츠', '오버롤팬츠/오버롤데님', '오버롤팬츠', '밴딩점프수트/셔링점프수트/점프수트/프릴점프수트', '가을점프슈트/점프수트/코듀로이팬츠/코듀로이원피스', '벨트팬츠/점프수트/데님팬츠/데님점프수트', '점프수트/데님점프수트', '슬림원피스/아나운서원피스/하객룩원피스/정장원피스/나시원피스/상견례원피스', '가을원피스/하객룩원피스/정장원피스/상견례원피스/랩원피스/플레어원피스', '점프수트', '가을점프슈트/트레이닝세트/점프수트', '쉬폰원피스', '미니원피스/빅사이즈원피스/미디원피스/하객룩원피스/핀턱원피스/단추원피스/칼라원피스/봄원피스/빅칼라원피스', '데님원피스', '임부복/임부원피스/데님원피스', '미디원피스/데님셔츠/임부복/수유원피스/데님원피스/봄원피스/셔츠원피스/간절기원피스', '반오픈원피스/셔츠원피스/미니원피스/데님원피스', '레이어드원피스/반팔원피스/미디원피스/스트링원피스/퍼프원피스/볼륨원피스/여름원피스', '플리츠원피스', '캐주얼원피스', '경량원피스', '아나운서원피스/하객룩원피스/오피스룩원피스/정장원피스/상견례원피스', 'H라인원피스', '웨딩드레스/셀프웨딩드레스/브로치원피스/브라이덜샤워드레스/스퀘어넥원피스', '스퀘어넥원피스', '숏점프수트/데님점프수트/포켓점프수트/점프수트/칼라점프슈트/리본점프수트', '와이드점프수트/점프수트/데일리점프수트/나시점프수트', '셔츠원피스', '77사이즈원피스/가을원피스/오피스룩원피스/정장원피스/상견례원피스', '반바지/반바지점프수트/데님점프수트/가을점프슈트/긴팔점프수트/점프수트', '포켓점프수트/점프수트/칼라점프슈트', '리넨원피스', '플리츠원피스/미니원피스/레이어드원피스', '시폰원피스/가을원피스/데일리원피스/플로럴원피스', '집업점프수트/기모후드티/기모점프수트/점프수트/후드점프슈\""
            ],
            "application/vnd.google.colaboratory.intrinsic+json": {
              "type": "string"
            }
          },
          "metadata": {},
          "execution_count": 26
        }
      ]
    },
    {
      "cell_type": "code",
      "source": [
        "item = item.replace(\"'\", \",\").replace(\" \", \",\").replace(\"/\", \",\")"
      ],
      "metadata": {
        "id": "VkmFgXVVQwsV"
      },
      "execution_count": 27,
      "outputs": []
    },
    {
      "cell_type": "code",
      "source": [
        "item[:1000]"
      ],
      "metadata": {
        "colab": {
          "base_uri": "https://localhost:8080/",
          "height": 365
        },
        "id": "tvD-HZIaQ7Mu",
        "outputId": "5013126b-25ea-4785-a6ef-be8ec5a48cd4"
      },
      "execution_count": 28,
      "outputs": [
        {
          "output_type": "execute_result",
          "data": {
            "text/plain": [
              "'[,점프슈트,,,,오버롤팬츠,점프수트,여름점프수트,,,,스트링점프수트,반바지,반바지점프수트,점프수트,캐주얼점프수트,데일리점프수트,,,,와이드점프수트,점프수트,뷔스티에점프수트,나시점프수트,,,,캐주얼데님팬츠,오버롤팬츠,오버롤데님,데님팬츠,,,,오버롤팬츠,오버롤데님,,,,오버롤팬츠,,,,밴딩점프수트,셔링점프수트,점프수트,프릴점프수트,,,,가을점프슈트,점프수트,코듀로이팬츠,코듀로이원피스,,,,벨트팬츠,점프수트,데님팬츠,데님점프수트,,,,점프수트,데님점프수트,,,,슬림원피스,아나운서원피스,하객룩원피스,정장원피스,나시원피스,상견례원피스,,,,가을원피스,하객룩원피스,정장원피스,상견례원피스,랩원피스,플레어원피스,,,,점프수트,,,,가을점프슈트,트레이닝세트,점프수트,,,,쉬폰원피스,,,,미니원피스,빅사이즈원피스,미디원피스,하객룩원피스,핀턱원피스,단추원피스,칼라원피스,봄원피스,빅칼라원피스,,,,데님원피스,,,,임부복,임부원피스,데님원피스,,,,미디원피스,데님셔츠,임부복,수유원피스,데님원피스,봄원피스,셔츠원피스,간절기원피스,,,,반오픈원피스,셔츠원피스,미니원피스,데님원피스,,,,레이어드원피스,반팔원피스,미디원피스,스트링원피스,퍼프원피스,볼륨원피스,여름원피스,,,,플리츠원피스,,,,캐주얼원피스,,,,경량원피스,,,,아나운서원피스,하객룩원피스,오피스룩원피스,정장원피스,상견례원피스,,,,H라인원피스,,,,웨딩드레스,셀프웨딩드레스,브로치원피스,브라이덜샤워드레스,스퀘어넥원피스,,,,스퀘어넥원피스,,,,숏점프수트,데님점프수트,포켓점프수트,점프수트,칼라점프슈트,리본점프수트,,,,와이드점프수트,점프수트,데일리점프수트,나시점프수트,,,,셔츠원피스,,,,77사이즈원피스,가을원피스,오피스룩원피스,정장원피스,상견례원피스,,,,반바지,반바지점프수트,데님점프수트,가을점프슈트,긴팔점프수트,점프수트,,,,포켓점프수트,점프수트,칼라점프슈트,,,,리넨원피스,,,,플리츠원피스,미니원피스,레이어드원피스,,,,시폰원피스,가을원피스,데일리원피스,플로럴원피스,,,,집업점프수트,기모후드티,기모점프수트,점프수트,후드점프슈'"
            ],
            "application/vnd.google.colaboratory.intrinsic+json": {
              "type": "string"
            }
          },
          "metadata": {},
          "execution_count": 28
        }
      ]
    },
    {
      "cell_type": "markdown",
      "source": [
        "> ## 2) 색상 구분"
      ],
      "metadata": {
        "id": "jiG_BL-TkuB8"
      }
    },
    {
      "cell_type": "code",
      "source": [
        "DF['color'].value_counts()"
      ],
      "metadata": {
        "colab": {
          "base_uri": "https://localhost:8080/"
        },
        "id": "g4igPD2Rkx48",
        "outputId": "fd664507-af04-4c7e-bb95-eaff2f509740"
      },
      "execution_count": 29,
      "outputs": [
        {
          "output_type": "execute_result",
          "data": {
            "text/plain": [
              "아이보리/블랙                                          523\n",
              "베이지/블랙                                           434\n",
              "블랙                                               371\n",
              "블랙/화이트                                           271\n",
              "베이지/아이보리/블랙                                      228\n",
              "                                                ... \n",
              "네이비/브라운/베이지/옐로우/라이트블루/핑크/카키/블랙/퍼플/블루/아이보리/그레이      1\n",
              "라이트블루/블랙/화이트/블루/차콜                                 1\n",
              "네이비/핑크/화이트/퍼플/블루/카키                                1\n",
              "핑크/차콜/그린                                           1\n",
              "브라운/그린/블랙/그레이                                      1\n",
              "Name: color, Length: 2944, dtype: int64"
            ]
          },
          "metadata": {},
          "execution_count": 29
        }
      ]
    },
    {
      "cell_type": "code",
      "source": [
        "color = DF['color'].unique().tolist()"
      ],
      "metadata": {
        "id": "z7gRaz9Wk8Bj"
      },
      "execution_count": 30,
      "outputs": []
    },
    {
      "cell_type": "code",
      "source": [
        "color = str(color)"
      ],
      "metadata": {
        "id": "Sp9e7loSlDOr"
      },
      "execution_count": 31,
      "outputs": []
    },
    {
      "cell_type": "code",
      "source": [
        "color[:1000]"
      ],
      "metadata": {
        "colab": {
          "base_uri": "https://localhost:8080/",
          "height": 330
        },
        "id": "eOVkucmAlFHn",
        "outputId": "15ab4c50-fb21-4680-8749-78b7e3c4f2fa"
      },
      "execution_count": 32,
      "outputs": [
        {
          "output_type": "execute_result",
          "data": {
            "text/plain": [
              "\"['베이지/블랙/화이트/아이보리/카키', '라이트블루/차콜', '베이지/블랙', '퍼플/베이지/블랙', '블루/라이트블루/차콜', '차콜/아이보리', '라이트블루', '라이트블루/베이지/블랙', '베이지/아이보리/블랙', '차콜', '블루', '퍼플/그레이', '핑크/레드/그린/블랙/화이트/블루', '네이비/블랙', '네이비/카키', '블랙/그레이', '아이보리/블랙/화이트', '베이지/그레이', '차콜/블랙', '블루/차콜/블랙', '아이보리', '블랙', '네이비', '퍼플', '퍼플/블랙', '화이트', '브라운/블랙', '블루/베이지', '네이비/핑크', '브라운', '베이지/블랙/골드', '베이지/블랙/그레이/화이트', '블랙/화이트', '그린/아이보리/블랙/베이지', '핑크/그린/화이트', '라이트블루/차콜/그레이', '라이트블루/차콜/블랙', '블루/옐로우', '브라운/아이보리/블랙', '핑크/블루/베이지', '브라운/베이지', '그린/오렌지/블랙', '베이지', '브라운/베이지/블랙/아이보리/카키', '핑크/블루/베이지/그린', '베이지/아이보리/화이트', '브라운/아이보리/블랙/그레이', '블루/아이보리/블랙/그레이', '브라운/민트/블랙', '네이비/블루/베이지/블랙', '네온/골드', '네온', '핑크/네온', '퍼플/핑크/네온', '블루/네온', '브라운/베이지/아이보리/블랙', '핑크/베이지/블랙/아이보리/카키', '베이지/차콜/민트', '실버/블랙', '베이지/아이보리/블랙/카키', '블루/베이지/블랙', '베이지/블랙/카키', '블랙/그레이/화이트', '아이보리/블랙', '핑크/베이지/블랙/화이트/아이보리', '브라운/베이지/블랙/화이트/아이보리', '퍼플/아이보리/블랙', '라이트블루/베이지/핑크', '핑크/블랙', '네이비/베이지/그린/옐로우', '베이지/아이보리/블랙/그레이', '브라운/베이지/블랙', '핑크/블랙/그레이', '퍼플/민트/블랙/라벤더', '브라운/베이지/라벤더/블랙/퍼플', '그린/아이보리/블랙', '아이보리/블\""
            ],
            "application/vnd.google.colaboratory.intrinsic+json": {
              "type": "string"
            }
          },
          "metadata": {},
          "execution_count": 32
        }
      ]
    },
    {
      "cell_type": "code",
      "source": [
        "color = color.replace(\"'\", \",\").replace(\" \", \",\").replace(\"/\", \",\")"
      ],
      "metadata": {
        "id": "HrhJy8aulLBL"
      },
      "execution_count": 33,
      "outputs": []
    },
    {
      "cell_type": "code",
      "source": [
        "color[:1000]"
      ],
      "metadata": {
        "colab": {
          "base_uri": "https://localhost:8080/",
          "height": 330
        },
        "id": "zeYn8pjelP5-",
        "outputId": "f6e3cd18-c75a-469d-cffa-899df6cf8ac6"
      },
      "execution_count": 34,
      "outputs": [
        {
          "output_type": "execute_result",
          "data": {
            "text/plain": [
              "'[,베이지,블랙,화이트,아이보리,카키,,,,라이트블루,차콜,,,,베이지,블랙,,,,퍼플,베이지,블랙,,,,블루,라이트블루,차콜,,,,차콜,아이보리,,,,라이트블루,,,,라이트블루,베이지,블랙,,,,베이지,아이보리,블랙,,,,차콜,,,,블루,,,,퍼플,그레이,,,,핑크,레드,그린,블랙,화이트,블루,,,,네이비,블랙,,,,네이비,카키,,,,블랙,그레이,,,,아이보리,블랙,화이트,,,,베이지,그레이,,,,차콜,블랙,,,,블루,차콜,블랙,,,,아이보리,,,,블랙,,,,네이비,,,,퍼플,,,,퍼플,블랙,,,,화이트,,,,브라운,블랙,,,,블루,베이지,,,,네이비,핑크,,,,브라운,,,,베이지,블랙,골드,,,,베이지,블랙,그레이,화이트,,,,블랙,화이트,,,,그린,아이보리,블랙,베이지,,,,핑크,그린,화이트,,,,라이트블루,차콜,그레이,,,,라이트블루,차콜,블랙,,,,블루,옐로우,,,,브라운,아이보리,블랙,,,,핑크,블루,베이지,,,,브라운,베이지,,,,그린,오렌지,블랙,,,,베이지,,,,브라운,베이지,블랙,아이보리,카키,,,,핑크,블루,베이지,그린,,,,베이지,아이보리,화이트,,,,브라운,아이보리,블랙,그레이,,,,블루,아이보리,블랙,그레이,,,,브라운,민트,블랙,,,,네이비,블루,베이지,블랙,,,,네온,골드,,,,네온,,,,핑크,네온,,,,퍼플,핑크,네온,,,,블루,네온,,,,브라운,베이지,아이보리,블랙,,,,핑크,베이지,블랙,아이보리,카키,,,,베이지,차콜,민트,,,,실버,블랙,,,,베이지,아이보리,블랙,카키,,,,블루,베이지,블랙,,,,베이지,블랙,카키,,,,블랙,그레이,화이트,,,,아이보리,블랙,,,,핑크,베이지,블랙,화이트,아이보리,,,,브라운,베이지,블랙,화이트,아이보리,,,,퍼플,아이보리,블랙,,,,라이트블루,베이지,핑크,,,,핑크,블랙,,,,네이비,베이지,그린,옐로우,,,,베이지,아이보리,블랙,그레이,,,,브라운,베이지,블랙,,,,핑크,블랙,그레이,,,,퍼플,민트,블랙,라벤더,,,,브라운,베이지,라벤더,블랙,퍼플,,,,그린,아이보리,블랙,,,,아이보리,블'"
            ],
            "application/vnd.google.colaboratory.intrinsic+json": {
              "type": "string"
            }
          },
          "metadata": {},
          "execution_count": 34
        }
      ]
    },
    {
      "cell_type": "markdown",
      "source": [
        "> ## 3) 재질 구분"
      ],
      "metadata": {
        "id": "0BZTNpcR10Ht"
      }
    },
    {
      "cell_type": "code",
      "source": [
        "DF['material'].value_counts()"
      ],
      "metadata": {
        "colab": {
          "base_uri": "https://localhost:8080/"
        },
        "id": "QSo3kYvs12kN",
        "outputId": "fc55e1be-38d6-48cd-8548-0ac255c83efc"
      },
      "execution_count": 49,
      "outputs": [
        {
          "output_type": "execute_result",
          "data": {
            "text/plain": [
              "코튼                     2674\n",
              "폴리에스터                  2163\n",
              "폴리에스터/코튼                831\n",
              "아크릴                     713\n",
              "폴리에스터/아크릴               500\n",
              "                       ... \n",
              "실크/폴리에스터/모달/레이온           1\n",
              "스판/아크릴/나일론/모달/폴리에스터       1\n",
              "레더/스판                     1\n",
              "벨벳/스판/코튼                  1\n",
              "코튼/스웨이드                   1\n",
              "Name: material, Length: 285, dtype: int64"
            ]
          },
          "metadata": {},
          "execution_count": 49
        }
      ]
    },
    {
      "cell_type": "code",
      "source": [
        "material = DF['material'].unique().tolist()"
      ],
      "metadata": {
        "id": "R5RvLdg-17iP"
      },
      "execution_count": 50,
      "outputs": []
    },
    {
      "cell_type": "code",
      "source": [
        "material = str(material)"
      ],
      "metadata": {
        "id": "CfjZ22h52Ate"
      },
      "execution_count": 51,
      "outputs": []
    },
    {
      "cell_type": "code",
      "source": [
        "material = material.replace(\"'\", \",\").replace(\" \", \",\").replace(\"/\", \",\")"
      ],
      "metadata": {
        "id": "6L-JAqom2EaB"
      },
      "execution_count": 53,
      "outputs": []
    },
    {
      "cell_type": "code",
      "source": [
        "material[:1000]"
      ],
      "metadata": {
        "colab": {
          "base_uri": "https://localhost:8080/",
          "height": 348
        },
        "id": "nPq5BuHu2HGI",
        "outputId": "03554140-d4e9-43d8-c316-c01e3a4413cf"
      },
      "execution_count": 54,
      "outputs": [
        {
          "output_type": "execute_result",
          "data": {
            "text/plain": [
              "'[,폴리에스터,나일론,,,,텐셀,데님,,,,나일론,,,,코튼,폴리에스터,쉬폰,나일론,,,,데님,,,,폴리에스터,코튼,,,,코튼,,,,폴리에스터,,,,스판,코튼,,,,폴리에스터,스판,,,,실크,폴리에스터,스판,레이온,,,,실크,린넨,레이온,,,,데님,코튼,,,,벨벳,,,,폴리에스터,새틴,스판,,,,텐셀,스판,레이온,실크,코튼,폴리에스터,,,,실크,레이온,나일론,,,,아크릴,울,,,,폴리에스터,울,나일론,,,,폴리에스터,울,,,,코튼,폴리에스터,아크릴,나일론,,,,텐셀,폴리에스터,스판,,,,아크릴,,,,폴리에스터,코튼,레이온,,,,폴리에스터,아크릴,코튼,,,,폴리에스터,아크릴,울,,,,폴리에스터,아크릴,울,코튼,,,,폴리에스터,스판,울,,,,스판,,,,폴리에스터,아크릴,,,,레이온,,,,폴리에스터,아크릴,나일론,,,,린넨,코튼,,,,실크,스판,레이온,,,,폴리에스터,스판,코튼,,,,폴리에스터,모달,,,,아크릴,나일론,,,,코튼,울,,,,실크,폴리에스터,레이온,,,,폴리에스터,코튼,나일론,,,,폴리에스터,스웨이드,,,,폴리에스터,쉬폰,,,,폴리에스터,레이온,,,,기모,코듀로이,,,,실크,코튼,레이온,,,,텐셀,스판,,,,폴리에스터,레이온,나일론,,,,실크,폴리에스터,레이온,나일론,,,,기모,코튼,,,,폴리에스터,아크릴,스판,레이온,,,,코튼,코듀로이,,,,실크,폴리에스터,새틴,,,,폴리에스터,린넨,코튼,,,,아크릴,레이온,실크,나일론,울,,,,실크,레이온,,,,쉬폰,,,,아크릴,스판,울,나일론,,,,실크,코튼,스판,레이온,,,,실크,아크릴,울,레이온,,,,울,,,,폴리에스터,기모,코튼,,,,기모,레이온,실크,코튼,폴리에스터,,,,실크,아크릴,레이온,,,,실크,폴리에스터,새틴,레이온,,,,실크,폴리에스터,아크릴,레이온,,,,폴리에스터,기모,스판,코튼,,,,코튼,나일론,,,,스판,레이온,실크,울,폴리에스터,,,,실크,레이온,울,나일론,,,,폴리에스터,아크릴,스판,나일론,,,,스판,레이온,실크,코튼,폴리에스터,,,,울,퍼,나일론,,,,폴리에스터,스판,울,레이온,,,,코튼'"
            ],
            "application/vnd.google.colaboratory.intrinsic+json": {
              "type": "string"
            }
          },
          "metadata": {},
          "execution_count": 54
        }
      ]
    },
    {
      "cell_type": "markdown",
      "source": [
        "> ## import 're' Module"
      ],
      "metadata": {
        "id": "wuUWK41BQr2Z"
      }
    },
    {
      "cell_type": "code",
      "source": [
        "import re"
      ],
      "metadata": {
        "id": "SMqBLV0PQU1i"
      },
      "execution_count": 35,
      "outputs": []
    },
    {
      "cell_type": "code",
      "source": [
        "item = re.sub(\"[\\d\\\\-\\.\\[\\](nan)]\", \"\", item)"
      ],
      "metadata": {
        "id": "GWOypukzQvey"
      },
      "execution_count": 36,
      "outputs": []
    },
    {
      "cell_type": "code",
      "source": [
        "item[:1000]"
      ],
      "metadata": {
        "colab": {
          "base_uri": "https://localhost:8080/",
          "height": 365
        },
        "id": "bepCBpJPRL2-",
        "outputId": "479e0e59-63e3-4fe9-8437-81915752d412"
      },
      "execution_count": 37,
      "outputs": [
        {
          "output_type": "execute_result",
          "data": {
            "text/plain": [
              "',점프슈트,,,,오버롤팬츠,점프수트,여름점프수트,,,,스트링점프수트,반바지,반바지점프수트,점프수트,캐주얼점프수트,데일리점프수트,,,,와이드점프수트,점프수트,뷔스티에점프수트,나시점프수트,,,,캐주얼데님팬츠,오버롤팬츠,오버롤데님,데님팬츠,,,,오버롤팬츠,오버롤데님,,,,오버롤팬츠,,,,밴딩점프수트,셔링점프수트,점프수트,프릴점프수트,,,,가을점프슈트,점프수트,코듀로이팬츠,코듀로이원피스,,,,벨트팬츠,점프수트,데님팬츠,데님점프수트,,,,점프수트,데님점프수트,,,,슬림원피스,아나운서원피스,하객룩원피스,정장원피스,나시원피스,상견례원피스,,,,가을원피스,하객룩원피스,정장원피스,상견례원피스,랩원피스,플레어원피스,,,,점프수트,,,,가을점프슈트,트레이닝세트,점프수트,,,,쉬폰원피스,,,,미니원피스,빅사이즈원피스,미디원피스,하객룩원피스,핀턱원피스,단추원피스,칼라원피스,봄원피스,빅칼라원피스,,,,데님원피스,,,,임부복,임부원피스,데님원피스,,,,미디원피스,데님셔츠,임부복,수유원피스,데님원피스,봄원피스,셔츠원피스,간절기원피스,,,,반오픈원피스,셔츠원피스,미니원피스,데님원피스,,,,레이어드원피스,반팔원피스,미디원피스,스트링원피스,퍼프원피스,볼륨원피스,여름원피스,,,,플리츠원피스,,,,캐주얼원피스,,,,경량원피스,,,,아나운서원피스,하객룩원피스,오피스룩원피스,정장원피스,상견례원피스,,,,H라인원피스,,,,웨딩드레스,셀프웨딩드레스,브로치원피스,브라이덜샤워드레스,스퀘어넥원피스,,,,스퀘어넥원피스,,,,숏점프수트,데님점프수트,포켓점프수트,점프수트,칼라점프슈트,리본점프수트,,,,와이드점프수트,점프수트,데일리점프수트,나시점프수트,,,,셔츠원피스,,,,사이즈원피스,가을원피스,오피스룩원피스,정장원피스,상견례원피스,,,,반바지,반바지점프수트,데님점프수트,가을점프슈트,긴팔점프수트,점프수트,,,,포켓점프수트,점프수트,칼라점프슈트,,,,리넨원피스,,,,플리츠원피스,미니원피스,레이어드원피스,,,,시폰원피스,가을원피스,데일리원피스,플로럴원피스,,,,집업점프수트,기모후드티,기모점프수트,점프수트,후드점프슈트,후'"
            ],
            "application/vnd.google.colaboratory.intrinsic+json": {
              "type": "string"
            }
          },
          "metadata": {},
          "execution_count": 37
        }
      ]
    },
    {
      "cell_type": "code",
      "source": [
        "item = re.sub(\",{2,}\", \",\", item)"
      ],
      "metadata": {
        "id": "hk1KXc74RM-u"
      },
      "execution_count": 38,
      "outputs": []
    },
    {
      "cell_type": "code",
      "source": [
        "item[:1000]"
      ],
      "metadata": {
        "colab": {
          "base_uri": "https://localhost:8080/",
          "height": 383
        },
        "id": "uf9QgI36RStD",
        "outputId": "287ec0d1-d731-4fc2-8d07-a8218d38b440"
      },
      "execution_count": 39,
      "outputs": [
        {
          "output_type": "execute_result",
          "data": {
            "text/plain": [
              "',점프슈트,오버롤팬츠,점프수트,여름점프수트,스트링점프수트,반바지,반바지점프수트,점프수트,캐주얼점프수트,데일리점프수트,와이드점프수트,점프수트,뷔스티에점프수트,나시점프수트,캐주얼데님팬츠,오버롤팬츠,오버롤데님,데님팬츠,오버롤팬츠,오버롤데님,오버롤팬츠,밴딩점프수트,셔링점프수트,점프수트,프릴점프수트,가을점프슈트,점프수트,코듀로이팬츠,코듀로이원피스,벨트팬츠,점프수트,데님팬츠,데님점프수트,점프수트,데님점프수트,슬림원피스,아나운서원피스,하객룩원피스,정장원피스,나시원피스,상견례원피스,가을원피스,하객룩원피스,정장원피스,상견례원피스,랩원피스,플레어원피스,점프수트,가을점프슈트,트레이닝세트,점프수트,쉬폰원피스,미니원피스,빅사이즈원피스,미디원피스,하객룩원피스,핀턱원피스,단추원피스,칼라원피스,봄원피스,빅칼라원피스,데님원피스,임부복,임부원피스,데님원피스,미디원피스,데님셔츠,임부복,수유원피스,데님원피스,봄원피스,셔츠원피스,간절기원피스,반오픈원피스,셔츠원피스,미니원피스,데님원피스,레이어드원피스,반팔원피스,미디원피스,스트링원피스,퍼프원피스,볼륨원피스,여름원피스,플리츠원피스,캐주얼원피스,경량원피스,아나운서원피스,하객룩원피스,오피스룩원피스,정장원피스,상견례원피스,H라인원피스,웨딩드레스,셀프웨딩드레스,브로치원피스,브라이덜샤워드레스,스퀘어넥원피스,스퀘어넥원피스,숏점프수트,데님점프수트,포켓점프수트,점프수트,칼라점프슈트,리본점프수트,와이드점프수트,점프수트,데일리점프수트,나시점프수트,셔츠원피스,사이즈원피스,가을원피스,오피스룩원피스,정장원피스,상견례원피스,반바지,반바지점프수트,데님점프수트,가을점프슈트,긴팔점프수트,점프수트,포켓점프수트,점프수트,칼라점프슈트,리넨원피스,플리츠원피스,미니원피스,레이어드원피스,시폰원피스,가을원피스,데일리원피스,플로럴원피스,집업점프수트,기모후드티,기모점프수트,점프수트,후드점프슈트,후드집업점퍼,볼륨원피스,바캉스룩원피스,플로럴원피스,퍼프원피스,레이어드원피스,플리츠원피스,나시원피스,랩원피스,벨트원피스,가을원피스,롱원피스,데일리원피스,레이어드원피스,홈웨어잠옷,캐릭터잠옷,베이식원피스,간절기원'"
            ],
            "application/vnd.google.colaboratory.intrinsic+json": {
              "type": "string"
            }
          },
          "metadata": {},
          "execution_count": 39
        }
      ]
    },
    {
      "cell_type": "code",
      "source": [
        "color = re.sub(\"[\\d\\\\-\\.\\[\\](nan)]\", \"\", color)"
      ],
      "metadata": {
        "id": "2ujaDLnslUzN"
      },
      "execution_count": 40,
      "outputs": []
    },
    {
      "cell_type": "code",
      "source": [
        "color[:1000]"
      ],
      "metadata": {
        "colab": {
          "base_uri": "https://localhost:8080/",
          "height": 330
        },
        "id": "6tAr30ovlabT",
        "outputId": "fc9239c5-c43c-4e92-e904-f6787e418b3f"
      },
      "execution_count": 41,
      "outputs": [
        {
          "output_type": "execute_result",
          "data": {
            "text/plain": [
              "',베이지,블랙,화이트,아이보리,카키,,,,라이트블루,차콜,,,,베이지,블랙,,,,퍼플,베이지,블랙,,,,블루,라이트블루,차콜,,,,차콜,아이보리,,,,라이트블루,,,,라이트블루,베이지,블랙,,,,베이지,아이보리,블랙,,,,차콜,,,,블루,,,,퍼플,그레이,,,,핑크,레드,그린,블랙,화이트,블루,,,,네이비,블랙,,,,네이비,카키,,,,블랙,그레이,,,,아이보리,블랙,화이트,,,,베이지,그레이,,,,차콜,블랙,,,,블루,차콜,블랙,,,,아이보리,,,,블랙,,,,네이비,,,,퍼플,,,,퍼플,블랙,,,,화이트,,,,브라운,블랙,,,,블루,베이지,,,,네이비,핑크,,,,브라운,,,,베이지,블랙,골드,,,,베이지,블랙,그레이,화이트,,,,블랙,화이트,,,,그린,아이보리,블랙,베이지,,,,핑크,그린,화이트,,,,라이트블루,차콜,그레이,,,,라이트블루,차콜,블랙,,,,블루,옐로우,,,,브라운,아이보리,블랙,,,,핑크,블루,베이지,,,,브라운,베이지,,,,그린,오렌지,블랙,,,,베이지,,,,브라운,베이지,블랙,아이보리,카키,,,,핑크,블루,베이지,그린,,,,베이지,아이보리,화이트,,,,브라운,아이보리,블랙,그레이,,,,블루,아이보리,블랙,그레이,,,,브라운,민트,블랙,,,,네이비,블루,베이지,블랙,,,,네온,골드,,,,네온,,,,핑크,네온,,,,퍼플,핑크,네온,,,,블루,네온,,,,브라운,베이지,아이보리,블랙,,,,핑크,베이지,블랙,아이보리,카키,,,,베이지,차콜,민트,,,,실버,블랙,,,,베이지,아이보리,블랙,카키,,,,블루,베이지,블랙,,,,베이지,블랙,카키,,,,블랙,그레이,화이트,,,,아이보리,블랙,,,,핑크,베이지,블랙,화이트,아이보리,,,,브라운,베이지,블랙,화이트,아이보리,,,,퍼플,아이보리,블랙,,,,라이트블루,베이지,핑크,,,,핑크,블랙,,,,네이비,베이지,그린,옐로우,,,,베이지,아이보리,블랙,그레이,,,,브라운,베이지,블랙,,,,핑크,블랙,그레이,,,,퍼플,민트,블랙,라벤더,,,,브라운,베이지,라벤더,블랙,퍼플,,,,그린,아이보리,블랙,,,,아이보리,블랙'"
            ],
            "application/vnd.google.colaboratory.intrinsic+json": {
              "type": "string"
            }
          },
          "metadata": {},
          "execution_count": 41
        }
      ]
    },
    {
      "cell_type": "code",
      "source": [
        "color = re.sub(\",{2,}\", \",\", color)"
      ],
      "metadata": {
        "id": "8hlLBK3WlawC"
      },
      "execution_count": 42,
      "outputs": []
    },
    {
      "cell_type": "code",
      "source": [
        "color[:1000]"
      ],
      "metadata": {
        "colab": {
          "base_uri": "https://localhost:8080/",
          "height": 365
        },
        "id": "K6cim-3Vlgrx",
        "outputId": "b16e6e90-f2c5-44a2-d318-5e464457e317"
      },
      "execution_count": 43,
      "outputs": [
        {
          "output_type": "execute_result",
          "data": {
            "text/plain": [
              "',베이지,블랙,화이트,아이보리,카키,라이트블루,차콜,베이지,블랙,퍼플,베이지,블랙,블루,라이트블루,차콜,차콜,아이보리,라이트블루,라이트블루,베이지,블랙,베이지,아이보리,블랙,차콜,블루,퍼플,그레이,핑크,레드,그린,블랙,화이트,블루,네이비,블랙,네이비,카키,블랙,그레이,아이보리,블랙,화이트,베이지,그레이,차콜,블랙,블루,차콜,블랙,아이보리,블랙,네이비,퍼플,퍼플,블랙,화이트,브라운,블랙,블루,베이지,네이비,핑크,브라운,베이지,블랙,골드,베이지,블랙,그레이,화이트,블랙,화이트,그린,아이보리,블랙,베이지,핑크,그린,화이트,라이트블루,차콜,그레이,라이트블루,차콜,블랙,블루,옐로우,브라운,아이보리,블랙,핑크,블루,베이지,브라운,베이지,그린,오렌지,블랙,베이지,브라운,베이지,블랙,아이보리,카키,핑크,블루,베이지,그린,베이지,아이보리,화이트,브라운,아이보리,블랙,그레이,블루,아이보리,블랙,그레이,브라운,민트,블랙,네이비,블루,베이지,블랙,네온,골드,네온,핑크,네온,퍼플,핑크,네온,블루,네온,브라운,베이지,아이보리,블랙,핑크,베이지,블랙,아이보리,카키,베이지,차콜,민트,실버,블랙,베이지,아이보리,블랙,카키,블루,베이지,블랙,베이지,블랙,카키,블랙,그레이,화이트,아이보리,블랙,핑크,베이지,블랙,화이트,아이보리,브라운,베이지,블랙,화이트,아이보리,퍼플,아이보리,블랙,라이트블루,베이지,핑크,핑크,블랙,네이비,베이지,그린,옐로우,베이지,아이보리,블랙,그레이,브라운,베이지,블랙,핑크,블랙,그레이,퍼플,민트,블랙,라벤더,브라운,베이지,라벤더,블랙,퍼플,그린,아이보리,블랙,아이보리,블랙,그레이,베이지,블랙,그레이,브라운,블랙,그레이,민트,아이보리,베이지,블랙,화이트,네이비,블루,핑크,카키,옐로우,아이보리,블랙,베이지,차콜,화이트,아이보리,네이비,라이트블루,라이트블루,아이보리,블랙,네이비,옐로우,아이보리,핑크,핑크,베이지,블랙,화이트,퍼플,베이지,블랙,화이트,민트,라이트블루,화이트,베이지,차콜,블랙,화이트,블루,베이지,블랙,화이트,네이비,그린,그레이,레드,옐로우,블랙,핑크,레드,옐로우,핑'"
            ],
            "application/vnd.google.colaboratory.intrinsic+json": {
              "type": "string"
            }
          },
          "metadata": {},
          "execution_count": 43
        }
      ]
    },
    {
      "cell_type": "code",
      "source": [
        "material = re.sub(\"[\\d\\\\-\\.\\[\\](nan)]\", \"\", material)\n",
        "material = re.sub(\",{2,}\", \",\", material)\n",
        "material[:1000]"
      ],
      "metadata": {
        "colab": {
          "base_uri": "https://localhost:8080/",
          "height": 365
        },
        "id": "x_3vUcjb2Q8V",
        "outputId": "8041658a-0ee9-49f7-95e3-14d4290610d6"
      },
      "execution_count": 55,
      "outputs": [
        {
          "output_type": "execute_result",
          "data": {
            "text/plain": [
              "',폴리에스터,나일론,텐셀,데님,나일론,코튼,폴리에스터,쉬폰,나일론,데님,폴리에스터,코튼,코튼,폴리에스터,스판,코튼,폴리에스터,스판,실크,폴리에스터,스판,레이온,실크,린넨,레이온,데님,코튼,벨벳,폴리에스터,새틴,스판,텐셀,스판,레이온,실크,코튼,폴리에스터,실크,레이온,나일론,아크릴,울,폴리에스터,울,나일론,폴리에스터,울,코튼,폴리에스터,아크릴,나일론,텐셀,폴리에스터,스판,아크릴,폴리에스터,코튼,레이온,폴리에스터,아크릴,코튼,폴리에스터,아크릴,울,폴리에스터,아크릴,울,코튼,폴리에스터,스판,울,스판,폴리에스터,아크릴,레이온,폴리에스터,아크릴,나일론,린넨,코튼,실크,스판,레이온,폴리에스터,스판,코튼,폴리에스터,모달,아크릴,나일론,코튼,울,실크,폴리에스터,레이온,폴리에스터,코튼,나일론,폴리에스터,스웨이드,폴리에스터,쉬폰,폴리에스터,레이온,기모,코듀로이,실크,코튼,레이온,텐셀,스판,폴리에스터,레이온,나일론,실크,폴리에스터,레이온,나일론,기모,코튼,폴리에스터,아크릴,스판,레이온,코튼,코듀로이,실크,폴리에스터,새틴,폴리에스터,린넨,코튼,아크릴,레이온,실크,나일론,울,실크,레이온,쉬폰,아크릴,스판,울,나일론,실크,코튼,스판,레이온,실크,아크릴,울,레이온,울,폴리에스터,기모,코튼,기모,레이온,실크,코튼,폴리에스터,실크,아크릴,레이온,실크,폴리에스터,새틴,레이온,실크,폴리에스터,아크릴,레이온,폴리에스터,기모,스판,코튼,코튼,나일론,스판,레이온,실크,울,폴리에스터,실크,레이온,울,나일론,폴리에스터,아크릴,스판,나일론,스판,레이온,실크,코튼,폴리에스터,울,퍼,나일론,폴리에스터,스판,울,레이온,코튼,스판,나일론,코듀로이,실크,폴리에스터,코튼,레이온,폴리에스터,기모,스판,실크,아크릴,스판,레이온,폴리에스터,아크릴,스판,실크,폴리에스터,실크,코튼,아크릴,레이온,기모,스판,레이온,실크,폴리에스터,새틴,폴리에스터,벨벳,스판,텐셀,나일론,린넨,폴리에스터,스판,코듀로이,폴리에스터,코듀로이,텐셀,폴리에스터,레이온,나일론,아크릴,울,나일론,실크,레이온,코튼,나일론,아크릴,코튼,실크,폴리에스터,코튼,'"
            ],
            "application/vnd.google.colaboratory.intrinsic+json": {
              "type": "string"
            }
          },
          "metadata": {},
          "execution_count": 55
        }
      ]
    },
    {
      "cell_type": "markdown",
      "source": [
        "> ## Series 변환"
      ],
      "metadata": {
        "id": "zSqSC3y1RWSv"
      }
    },
    {
      "cell_type": "code",
      "source": [
        "item_count = pd.Series(item.split(',')).value_counts()"
      ],
      "metadata": {
        "id": "5i4Gg-JzRT98"
      },
      "execution_count": 44,
      "outputs": []
    },
    {
      "cell_type": "code",
      "source": [
        "item_count.head()"
      ],
      "metadata": {
        "colab": {
          "base_uri": "https://localhost:8080/"
        },
        "id": "PVx03AtqReit",
        "outputId": "590cd000-7fcf-4b0f-93fb-a6c34108d718"
      },
      "execution_count": 45,
      "outputs": [
        {
          "output_type": "execute_result",
          "data": {
            "text/plain": [
              "맨투맨       630\n",
              "롱원피스      604\n",
              "롱스커트      436\n",
              "베이식카디건    419\n",
              "베이식티셔츠    403\n",
              "dtype: int64"
            ]
          },
          "metadata": {},
          "execution_count": 45
        }
      ]
    },
    {
      "cell_type": "code",
      "source": [
        "color_count = pd.Series(color.split(',')).value_counts()"
      ],
      "metadata": {
        "id": "TcwSgHKfkr1F"
      },
      "execution_count": 46,
      "outputs": []
    },
    {
      "cell_type": "code",
      "source": [
        "color_count.head()"
      ],
      "metadata": {
        "colab": {
          "base_uri": "https://localhost:8080/"
        },
        "id": "wUMLXrGdlp1O",
        "outputId": "67ea8213-b8eb-4bd8-d19d-90e7cbeb9f9b"
      },
      "execution_count": 47,
      "outputs": [
        {
          "output_type": "execute_result",
          "data": {
            "text/plain": [
              "블랙      1738\n",
              "아이보리    1507\n",
              "베이지     1364\n",
              "핑크      1319\n",
              "화이트     1026\n",
              "dtype: int64"
            ]
          },
          "metadata": {},
          "execution_count": 47
        }
      ]
    },
    {
      "cell_type": "code",
      "source": [
        "material_count = pd.Series(item.split(',')).value_counts()\n",
        "material_count.head()"
      ],
      "metadata": {
        "colab": {
          "base_uri": "https://localhost:8080/"
        },
        "id": "t-VaQw-G2bxk",
        "outputId": "4aa3c785-ed5e-41e1-e092-640bd4d9f8c4"
      },
      "execution_count": 57,
      "outputs": [
        {
          "output_type": "execute_result",
          "data": {
            "text/plain": [
              "맨투맨       630\n",
              "롱원피스      604\n",
              "롱스커트      436\n",
              "베이식카디건    419\n",
              "베이식티셔츠    403\n",
              "dtype: int64"
            ]
          },
          "metadata": {},
          "execution_count": 57
        }
      ]
    },
    {
      "cell_type": "code",
      "source": [
        "count = pd.concat([item_count, color_count, material_count], keys = ['item_count', 'color_count', 'material_count'])\n",
        "count"
      ],
      "metadata": {
        "colab": {
          "base_uri": "https://localhost:8080/"
        },
        "id": "FJwYv3fytamC",
        "outputId": "770b1244-efc0-4c3a-99f6-2bb31d3249ad"
      },
      "execution_count": 58,
      "outputs": [
        {
          "output_type": "execute_result",
          "data": {
            "text/plain": [
              "item_count      맨투맨       630\n",
              "                롱원피스      604\n",
              "                롱스커트      436\n",
              "                베이식카디건    419\n",
              "                베이식티셔츠    403\n",
              "                         ... \n",
              "material_count  부레깅스        1\n",
              "                그래픽티셔츠      1\n",
              "                밍크팬츠        1\n",
              "                스티치티셔츠      1\n",
              "                레더레깅스       1\n",
              "Length: 3888, dtype: int64"
            ]
          },
          "metadata": {},
          "execution_count": 58
        }
      ]
    }
  ]
}